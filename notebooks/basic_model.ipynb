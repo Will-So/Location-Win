{
 "cells": [
  {
   "cell_type": "markdown",
   "metadata": {},
   "source": [
    "In this notebook, I will perform some modeling based"
   ]
  },
  {
   "cell_type": "markdown",
   "metadata": {},
   "source": [
    "## Preparing the Model"
   ]
  },
  {
   "cell_type": "code",
   "execution_count": 97,
   "metadata": {
    "collapsed": false,
    "scrolled": true
   },
   "outputs": [
    {
     "name": "stdout",
     "output_type": "stream",
     "text": [
      "Populating the interactive namespace from numpy and matplotlib\n"
     ]
    },
    {
     "name": "stderr",
     "output_type": "stream",
     "text": [
      "WARNING: pylab import has clobbered these variables: ['clf']\n",
      "`%matplotlib` prevents importing * from pylab and numpy\n"
     ]
    }
   ],
   "source": [
    "import pandas as pd\n",
    "%pylab inline\n",
    "from sklearn.cross_validation import train_test_split\n",
    "from sklearn.metrics import (r2_score, mean_absolute_error, accuracy_score,\n",
    "                             precision_score, recall_score)"
   ]
  },
  {
   "cell_type": "markdown",
   "metadata": {},
   "source": [
    "This model considers only categories and location to start out with"
   ]
  },
  {
   "cell_type": "code",
   "execution_count": 2,
   "metadata": {
    "collapsed": false
   },
   "outputs": [],
   "source": [
    "df = pd.read_hdf('../data/ready_businesses')"
   ]
  },
  {
   "cell_type": "code",
   "execution_count": 3,
   "metadata": {
    "collapsed": false,
    "scrolled": true
   },
   "outputs": [
    {
     "data": {
      "text/plain": [
       "Index(['business_id', 'categories', 'city', 'full_address', 'hours',\n",
       "       'latitude', 'longitude', 'name', 'neighborhoods', 'open',\n",
       "       'review_count', 'stars', 'state', 'type', 'success_metric',\n",
       "       'neighbor_success', 'American (New)', 'American (Traditional)',\n",
       "       'Arts & Entertainment', 'Asian Fusion', 'Bagels', 'Bakeries',\n",
       "       'Barbeque', 'Bars', 'Breakfast & Brunch', 'British', 'Buffets',\n",
       "       'Burgers', 'Cafes', 'Canadian (New)', 'Caterers', 'Chicken Wings',\n",
       "       'Chinese', 'Coffee & Tea', 'Delis', 'Desserts', 'Diners',\n",
       "       'Event Planning & Services', 'Fast Food', 'Food', 'French',\n",
       "       'Gastropubs', 'German', 'Gluten-Free', 'Greek', 'Grocery', 'Hawaiian',\n",
       "       'Hot Dogs', 'Ice Cream & Frozen Yogurt', 'Indian', 'Italian',\n",
       "       'Japanese', 'Juice Bars & Smoothies', 'Korean', 'Latin American',\n",
       "       'Lounges', 'Mediterranean', 'Mexican', 'Middle Eastern', 'Nightlife',\n",
       "       'Pizza', 'Pubs', 'Restaurants', 'Salad', 'Sandwiches', 'Seafood',\n",
       "       'Southern', 'Specialty Food', 'Sports Bars', 'Steakhouses',\n",
       "       'Sushi Bars', 'Tex-Mex', 'Thai', 'Vegan', 'Vegetarian', 'Vietnamese',\n",
       "       'Wine Bars'],\n",
       "      dtype='object')"
      ]
     },
     "execution_count": 3,
     "metadata": {},
     "output_type": "execute_result"
    }
   ],
   "source": [
    "df.columns"
   ]
  },
  {
   "cell_type": "code",
   "execution_count": 5,
   "metadata": {
    "collapsed": true
   },
   "outputs": [],
   "source": [
    "# add city later\n",
    "train_columns = ['neighbor_success', 'American (New)', 'American (Traditional)',\n",
    "       'Arts & Entertainment', 'Asian Fusion', 'Bagels', 'Bakeries',\n",
    "       'Barbeque', 'Bars', 'Breakfast & Brunch', 'British', 'Buffets',\n",
    "       'Burgers', 'Cafes', 'Canadian (New)', 'Caterers', 'Chicken Wings',\n",
    "       'Chinese', 'Coffee & Tea', 'Delis', 'Desserts', 'Diners',\n",
    "       'Event Planning & Services', 'Fast Food', 'Food', 'French',\n",
    "       'Gastropubs', 'German', 'Gluten-Free', 'Greek', 'Grocery', 'Hawaiian',\n",
    "       'Hot Dogs', 'Ice Cream & Frozen Yogurt', 'Indian', 'Italian',\n",
    "       'Japanese', 'Juice Bars & Smoothies', 'Korean', 'Latin American',\n",
    "       'Lounges', 'Mediterranean', 'Mexican', 'Middle Eastern', 'Nightlife',\n",
    "       'Pizza', 'Pubs', 'Restaurants', 'Salad', 'Sandwiches', 'Seafood',\n",
    "       'Southern', 'Specialty Food', 'Sports Bars', 'Steakhouses',\n",
    "       'Sushi Bars', 'Tex-Mex', 'Thai', 'Vegan', 'Vegetarian', 'Vietnamese',\n",
    "       'Wine Bars']"
   ]
  },
  {
   "cell_type": "code",
   "execution_count": 6,
   "metadata": {
    "collapsed": false,
    "scrolled": true
   },
   "outputs": [],
   "source": [
    "df.loc[df.success_metric > 16, 'successful'] = 1\n",
    "df.successful = df.successful.fillna(0)"
   ]
  },
  {
   "cell_type": "code",
   "execution_count": 7,
   "metadata": {
    "collapsed": false,
    "scrolled": true
   },
   "outputs": [],
   "source": [
    "X = df[train_columns]\n",
    "y = df.successful"
   ]
  },
  {
   "cell_type": "code",
   "execution_count": 12,
   "metadata": {
    "collapsed": true
   },
   "outputs": [],
   "source": [
    "train_X, test_X, train_y, test_y = train_test_split(X, y, test_size=.15)"
   ]
  },
  {
   "cell_type": "code",
   "execution_count": 12,
   "metadata": {
    "collapsed": false
   },
   "outputs": [
    {
     "data": {
      "text/plain": [
       "(19329, 3412)"
      ]
     },
     "execution_count": 12,
     "metadata": {},
     "output_type": "execute_result"
    }
   ],
   "source": [
    "len(train_X), len(test_X)"
   ]
  },
  {
   "cell_type": "markdown",
   "metadata": {},
   "source": [
    "# Classification "
   ]
  },
  {
   "cell_type": "markdown",
   "metadata": {},
   "source": [
    "Classification makes more sense. We want to know $P(Successful \\mid X)$"
   ]
  },
  {
   "cell_type": "code",
   "execution_count": 8,
   "metadata": {
    "collapsed": true
   },
   "outputs": [],
   "source": [
    "from sklearn.svm import SVC"
   ]
  },
  {
   "cell_type": "markdown",
   "metadata": {},
   "source": [
    "Setting the `class_weight` parameter makes it deal with unbalanced data by Default"
   ]
  },
  {
   "cell_type": "code",
   "execution_count": 40,
   "metadata": {
    "collapsed": true
   },
   "outputs": [],
   "source": [
    "clf = SVC(class_weight='balanced')"
   ]
  },
  {
   "cell_type": "code",
   "execution_count": 10,
   "metadata": {
    "collapsed": false
   },
   "outputs": [
    {
     "data": {
      "text/plain": [
       "0.25368277560353547"
      ]
     },
     "execution_count": 10,
     "metadata": {},
     "output_type": "execute_result"
    }
   ],
   "source": [
    "sum(df.successful) / len(df)"
   ]
  },
  {
   "cell_type": "code",
   "execution_count": 44,
   "metadata": {
    "collapsed": false,
    "scrolled": false
   },
   "outputs": [
    {
     "data": {
      "text/plain": [
       "SVC(C=1.0, cache_size=200, class_weight='balanced', coef0=0.0,\n",
       "  decision_function_shape=None, degree=3, gamma='auto', kernel='rbf',\n",
       "  max_iter=-1, probability=False, random_state=None, shrinking=True,\n",
       "  tol=0.001, verbose=False)"
      ]
     },
     "execution_count": 44,
     "metadata": {},
     "output_type": "execute_result"
    }
   ],
   "source": [
    "clf.fit(train_X, train_y)"
   ]
  },
  {
   "cell_type": "code",
   "execution_count": 45,
   "metadata": {
    "collapsed": false
   },
   "outputs": [],
   "source": [
    "svc_predictions = clf.predict(test_X)"
   ]
  },
  {
   "cell_type": "code",
   "execution_count": 46,
   "metadata": {
    "collapsed": false
   },
   "outputs": [
    {
     "data": {
      "text/plain": [
       "0.76055099648300117"
      ]
     },
     "execution_count": 46,
     "metadata": {},
     "output_type": "execute_result"
    }
   ],
   "source": [
    "accuracy_score(test_y, np.zeros(len(test_y)))"
   ]
  },
  {
   "cell_type": "code",
   "execution_count": 48,
   "metadata": {
    "collapsed": false
   },
   "outputs": [
    {
     "data": {
      "text/plain": [
       "0.67409144196951931"
      ]
     },
     "execution_count": 48,
     "metadata": {},
     "output_type": "execute_result"
    }
   ],
   "source": [
    "accuracy_score(test_y, svc_predictions)"
   ]
  },
  {
   "cell_type": "code",
   "execution_count": 49,
   "metadata": {
    "collapsed": false
   },
   "outputs": [
    {
     "data": {
      "text/plain": [
       "0.3900074571215511"
      ]
     },
     "execution_count": 49,
     "metadata": {},
     "output_type": "execute_result"
    }
   ],
   "source": [
    "precision_score(test_y, svc_predictions)"
   ]
  },
  {
   "cell_type": "code",
   "execution_count": null,
   "metadata": {
    "collapsed": true
   },
   "outputs": [],
   "source": []
  },
  {
   "cell_type": "markdown",
   "metadata": {},
   "source": [
    "## Random Forests"
   ]
  },
  {
   "cell_type": "code",
   "execution_count": 52,
   "metadata": {
    "collapsed": true
   },
   "outputs": [],
   "source": [
    "from sklearn.ensemble import RandomForestClassifier"
   ]
  },
  {
   "cell_type": "code",
   "execution_count": 99,
   "metadata": {
    "collapsed": false
   },
   "outputs": [],
   "source": [
    "rfclf = RandomForestClassifier(n_estimators=200, min_samples_split=10, oob_score=True,\n",
    "                              n_jobs=-1)"
   ]
  },
  {
   "cell_type": "code",
   "execution_count": 100,
   "metadata": {
    "collapsed": false
   },
   "outputs": [
    {
     "data": {
      "text/plain": [
       "RandomForestClassifier(bootstrap=True, class_weight=None, criterion='gini',\n",
       "            max_depth=None, max_features='auto', max_leaf_nodes=None,\n",
       "            min_samples_leaf=1, min_samples_split=10,\n",
       "            min_weight_fraction_leaf=0.0, n_estimators=200, n_jobs=-1,\n",
       "            oob_score=True, random_state=None, verbose=0, warm_start=False)"
      ]
     },
     "execution_count": 100,
     "metadata": {},
     "output_type": "execute_result"
    }
   ],
   "source": [
    "rfclf.fit(train_X, train_y)"
   ]
  },
  {
   "cell_type": "code",
   "execution_count": 114,
   "metadata": {
    "collapsed": false,
    "scrolled": false
   },
   "outputs": [],
   "source": [
    "feature_imp = rfclf.feature_importances_"
   ]
  },
  {
   "cell_type": "code",
   "execution_count": 119,
   "metadata": {
    "collapsed": true
   },
   "outputs": [],
   "source": [
    "keys = list(train_X.columns)"
   ]
  },
  {
   "cell_type": "code",
   "execution_count": 128,
   "metadata": {
    "collapsed": false,
    "scrolled": true
   },
   "outputs": [
    {
     "data": {
      "text/plain": [
       "[('neighbor_success', 0.50238820833048303),\n",
       " ('Fast Food', 0.11038729818909379),\n",
       " ('Burgers', 0.051773118697112389),\n",
       " ('Sandwiches', 0.036339067563733729),\n",
       " ('Chicken Wings', 0.023104472933524533),\n",
       " ('American (Traditional)', 0.016800072796280829),\n",
       " ('Pizza', 0.013409799807647407),\n",
       " ('Mexican', 0.013331903283060753),\n",
       " ('Tex-Mex', 0.012458634373197228),\n",
       " ('American (New)', 0.012082483167234592),\n",
       " ('Food', 0.01030543072270157),\n",
       " ('Breakfast & Brunch', 0.0091764809554776786),\n",
       " ('Italian', 0.0090868627338094449),\n",
       " ('Steakhouses', 0.0084663587630967874),\n",
       " ('Seafood', 0.0070989414715790355),\n",
       " ('Gluten-Free', 0.0067631993214908011),\n",
       " ('Delis', 0.0063569862768165066),\n",
       " ('Coffee & Tea', 0.0063152650955736979),\n",
       " ('Buffets', 0.0060827366540900677),\n",
       " ('Sports Bars', 0.005882929223175788),\n",
       " ('Nightlife', 0.0056634500144110336),\n",
       " ('Salad', 0.0055271415504110155),\n",
       " ('Asian Fusion', 0.0054498513886087211),\n",
       " ('Cafes', 0.0053450615632716107),\n",
       " ('Vegetarian', 0.0053236739519251031),\n",
       " ('Chinese', 0.0052233178363643518),\n",
       " ('Bars', 0.0050338289725086601),\n",
       " ('Mediterranean', 0.0050087679023927221),\n",
       " ('Restaurants', 0.004937287367330301),\n",
       " ('Bagels', 0.0045223693028269892),\n",
       " ('Pubs', 0.0044068084736616506),\n",
       " ('Hot Dogs', 0.0043251003668398078),\n",
       " ('Barbeque', 0.0043014080082850355),\n",
       " ('Juice Bars & Smoothies', 0.0039049462322725253),\n",
       " ('French', 0.0037578428369261282),\n",
       " ('Bakeries', 0.0035945981071833161),\n",
       " ('Japanese', 0.0034273889693594854),\n",
       " ('Sushi Bars', 0.003318500701390237),\n",
       " ('Diners', 0.0030575221588227562),\n",
       " ('Hawaiian', 0.0030514881578124144),\n",
       " ('Desserts', 0.0029818993672677437),\n",
       " ('Greek', 0.0027705747942042042),\n",
       " ('Vegan', 0.0027159875712780552),\n",
       " ('Ice Cream & Frozen Yogurt', 0.0025440112669821613),\n",
       " ('Thai', 0.0023901000925519713),\n",
       " ('Southern', 0.0023632668837368967),\n",
       " ('Event Planning & Services', 0.0022528599339634091),\n",
       " ('Arts & Entertainment', 0.0021310705377402179),\n",
       " ('Specialty Food', 0.0021156213189761019),\n",
       " ('Indian', 0.0020561214053596622),\n",
       " ('German', 0.0019752971642879339),\n",
       " ('Vietnamese', 0.0019137276726708733),\n",
       " ('Middle Eastern', 0.0018631688434077485),\n",
       " ('Lounges', 0.0018358337143662645),\n",
       " ('Wine Bars', 0.0018277118703900535),\n",
       " ('Korean', 0.0017316514574688029),\n",
       " ('Gastropubs', 0.0015157606464325311),\n",
       " ('Latin American', 0.001486789491340783),\n",
       " ('Canadian (New)', 0.001287108881449888),\n",
       " ('Caterers', 0.0011600916610642318),\n",
       " ('British', 0.0011519025236129403),\n",
       " ('Grocery', 0.0011388386796642024)]"
      ]
     },
     "execution_count": 128,
     "metadata": {},
     "output_type": "execute_result"
    }
   ],
   "source": [
    "sorted(list(zip(keys, feature_imp)), key=lambda x: x[1], reverse=True)"
   ]
  },
  {
   "cell_type": "code",
   "execution_count": 102,
   "metadata": {
    "collapsed": true
   },
   "outputs": [],
   "source": [
    "rf_pred = rfclf.predict(test_X)"
   ]
  },
  {
   "cell_type": "code",
   "execution_count": 103,
   "metadata": {
    "collapsed": false
   },
   "outputs": [
    {
     "data": {
      "text/plain": [
       "0.79662683015158575"
      ]
     },
     "execution_count": 103,
     "metadata": {},
     "output_type": "execute_result"
    }
   ],
   "source": [
    "rfclf.oob_score_"
   ]
  },
  {
   "cell_type": "code",
   "execution_count": 111,
   "metadata": {
    "collapsed": false,
    "scrolled": true
   },
   "outputs": [
    {
     "data": {
      "text/plain": [
       "0.62222222222222223"
      ]
     },
     "execution_count": 111,
     "metadata": {},
     "output_type": "execute_result"
    }
   ],
   "source": [
    "precision_score(test_y, rf_pred)"
   ]
  },
  {
   "cell_type": "code",
   "execution_count": 105,
   "metadata": {
    "collapsed": false
   },
   "outputs": [
    {
     "data": {
      "text/plain": [
       "0.79923798358733877"
      ]
     },
     "execution_count": 105,
     "metadata": {},
     "output_type": "execute_result"
    }
   ],
   "source": [
    "accuracy_score(test_y, rf_pred) "
   ]
  },
  {
   "cell_type": "code",
   "execution_count": 106,
   "metadata": {
    "collapsed": false
   },
   "outputs": [
    {
     "data": {
      "text/plain": [
       "0.41126070991432068"
      ]
     },
     "execution_count": 106,
     "metadata": {},
     "output_type": "execute_result"
    }
   ],
   "source": [
    "recall_score(test_y, rf_pred)"
   ]
  },
  {
   "cell_type": "markdown",
   "metadata": {},
   "source": [
    "# Confusion "
   ]
  },
  {
   "cell_type": "code",
   "execution_count": 24,
   "metadata": {
    "collapsed": true
   },
   "outputs": [],
   "source": [
    "from sklearn.metrics import confusion_matrix"
   ]
  },
  {
   "cell_type": "code",
   "execution_count": 65,
   "metadata": {
    "collapsed": false
   },
   "outputs": [],
   "source": [
    "def plot_confusion_matrix(cm, title='Confusion matrix', cmap=plt.cm.Blues):\n",
    "    plt.imshow(cm, interpolation='nearest', cmap=cmap)\n",
    "    plt.title(title)\n",
    "    plt.colorbar()\n",
    "    plt.ylabel('True label')\n",
    "    plt.xlabel('Predicted label')"
   ]
  },
  {
   "cell_type": "code",
   "execution_count": 66,
   "metadata": {
    "collapsed": false,
    "scrolled": false
   },
   "outputs": [
    {
     "name": "stderr",
     "output_type": "stream",
     "text": [
      "/Users/Will/anaconda/envs/py34/lib/python3.4/site-packages/matplotlib/collections.py:590: FutureWarning: elementwise comparison failed; returning scalar instead, but in the future will perform elementwise comparison\n",
      "  if self._edgecolors == str('face'):\n"
     ]
    },
    {
     "data": {
      "image/png": "[encoded data removed]",
      "text/plain": [
       "<matplotlib.figure.Figure at 0x111dec9e8>"
      ]
     },
     "metadata": {},
     "output_type": "display_data"
    }
   ],
   "source": [
    "plot_confusion_matrix(confusion_matrix(test_y, svc_predictions))"
   ]
  },
  {
   "cell_type": "code",
   "execution_count": 110,
   "metadata": {
    "collapsed": false,
    "scrolled": true
   },
   "outputs": [
    {
     "name": "stderr",
     "output_type": "stream",
     "text": [
      "/Users/Will/anaconda/envs/py34/lib/python3.4/site-packages/matplotlib/collections.py:590: FutureWarning: elementwise comparison failed; returning scalar instead, but in the future will perform elementwise comparison\n",
      "  if self._edgecolors == str('face'):\n"
     ]
    },
    {
     "data": {
      "image/png": "[encoded data removed]",
      "text/plain": [
       "<matplotlib.figure.Figure at 0x127842358>"
      ]
     },
     "metadata": {},
     "output_type": "display_data"
    }
   ],
   "source": [
    "plot_confusion_matrix(confusion_matrix(test_y, rf_pred))"
   ]
  },
  {
   "cell_type": "code",
   "execution_count": 112,
   "metadata": {
    "collapsed": false
   },
   "outputs": [
    {
     "data": {
      "text/plain": [
       "0.6222222222222222"
      ]
     },
     "execution_count": 112,
     "metadata": {},
     "output_type": "execute_result"
    }
   ],
   "source": [
    "336 / (204 + 336)"
   ]
  },
  {
   "cell_type": "code",
   "execution_count": 109,
   "metadata": {
    "collapsed": false,
    "scrolled": false
   },
   "outputs": [
    {
     "data": {
      "text/plain": [
       "array([[2391,  204],\n",
       "       [ 481,  336]])"
      ]
     },
     "execution_count": 109,
     "metadata": {},
     "output_type": "execute_result"
    }
   ],
   "source": [
    "confusion_matrix(test_y, rf_pred)"
   ]
  },
  {
   "cell_type": "markdown",
   "metadata": {},
   "source": [
    "If predicted in top 25%, it will be in the top 25% 61% of the time."
   ]
  },
  {
   "cell_type": "markdown",
   "metadata": {},
   "source": [
    "# Extensions"
   ]
  },
  {
   "cell_type": "markdown",
   "metadata": {},
   "source": [
    "The next iteration of modeling will include features derived from the textual reviews. "
   ]
  }
 ],
 "metadata": {
  "kernelspec": {
   "display_name": "Python 3",
   "language": "python",
   "name": "python3"
  },
  "language_info": {
   "codemirror_mode": {
    "name": "ipython",
    "version": 3
   },
   "file_extension": ".py",
   "mimetype": "text/x-python",
   "name": "python",
   "nbconvert_exporter": "python",
   "pygments_lexer": "ipython3",
   "version": "3.4.3"
  }
 },
 "nbformat": 4,
 "nbformat_minor": 0
}
