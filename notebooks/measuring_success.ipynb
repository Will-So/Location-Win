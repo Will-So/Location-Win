{
 "cells": [
  {
   "cell_type": "markdown",
   "metadata": {},
   "source": [
    "# Overview"
   ]
  },
  {
   "cell_type": "markdown",
   "metadata": {},
   "source": [
    "One of the most challenging things about this project is to measure success.  I define the success metric $F(Rating, Number\\_Reviews, Time)$. The paramterization of this function, however, is far from clear.\n",
    "\n",
    "## Desired Traits of the Function\n",
    "The function should have the following traits:\n",
    "\n",
    "1. A business that has been open for a long time and has a high rating should probably count as successful because it has stayed open for a long time and the people who review it like it. It could just be a low-volume, high-margin business or it could be that the people who frequent the establishment do not submit yelp views often. \n",
    "2. A business with a large number of reviews and high rating should always be rated as successful.\n",
    "3. A business with high numbers of reviews over a short amount of time should be successful regardless of ratings because they are clearly making money despite the pitiful reviews. \n",
    "\n",
    "\n",
    "## standardize:\n",
    "\n",
    "It makes sense to standardize \n",
    "\n",
    "- It also makes sense to come up with a metric that is Reviews/Time. "
   ]
  },
  {
   "cell_type": "code",
   "execution_count": null,
   "metadata": {
    "collapsed": true
   },
   "outputs": [],
   "source": []
  }
 ],
 "metadata": {
  "kernelspec": {
   "display_name": "Python 3",
   "language": "python",
   "name": "python3"
  },
  "language_info": {
   "codemirror_mode": {
    "name": "ipython",
    "version": 3
   },
   "file_extension": ".py",
   "mimetype": "text/x-python",
   "name": "python",
   "nbconvert_exporter": "python",
   "pygments_lexer": "ipython3",
   "version": "3.4.3"
  }
 },
 "nbformat": 4,
 "nbformat_minor": 0
}
