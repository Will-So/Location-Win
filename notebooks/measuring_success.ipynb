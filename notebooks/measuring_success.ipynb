{
 "cells": [
  {
   "cell_type": "markdown",
   "metadata": {},
   "source": [
    "# Overview"
   ]
  },
  {
   "cell_type": "markdown",
   "metadata": {},
   "source": [
    "One of the most challenging things about this project is to measure success.  I define the success metric $F(Rating, \\frac{Number\\_Reviews}{Month}, Time)$.\n",
    "\n",
    "## Desired Traits of the Function\n",
    "The function should have the following traits:\n",
    "\n",
    "1. A business that has been open for a long time and has a high rating should count as successful because it has stayed open for a long time and the people who review it like it. It could just be a low-volume, high-margin business or it could be that the people who frequent the establishment do not submit yelp views often. \n",
    "2. A business with a large number of reviews and high rating should always be rated as successful.\n",
    "3. A business with high numbers of reviews over a short amount of time should be successful regardless of ratings because they are clearly making money despite the pitiful reviews. \n",
    "\n",
    "\n",
    "## standardize:\n",
    "\n",
    "It makes sense to standardize so that every value is between 1 and 10 with the same standard deviation. Pick the highest two and multiply them together"
   ]
  },
  {
   "cell_type": "markdown",
   "metadata": {},
   "source": [
    "# Doing it"
   ]
  },
  {
   "cell_type": "code",
   "execution_count": 23,
   "metadata": {
    "collapsed": false
   },
   "outputs": [
    {
     "name": "stdout",
     "output_type": "stream",
     "text": [
      "Populating the interactive namespace from numpy and matplotlib\n"
     ]
    }
   ],
   "source": [
    "import pandas as pd\n",
    "%pylab inline\n",
    "import arrow"
   ]
  },
  {
   "cell_type": "code",
   "execution_count": 3,
   "metadata": {
    "collapsed": true
   },
   "outputs": [],
   "source": [
    "combined_data = pd.read_hdf('../data/restaurant_reviews.hdf')"
   ]
  },
  {
   "cell_type": "code",
   "execution_count": 4,
   "metadata": {
    "collapsed": false
   },
   "outputs": [
    {
     "data": {
      "text/plain": [
       "Index(['date', 'review_id', 'text', 'user_id', 'city', 'latitude', 'longitude',\n",
       "       'name', 'neighborhoods', 'stars', 'hours'],\n",
       "      dtype='object')"
      ]
     },
     "execution_count": 4,
     "metadata": {},
     "output_type": "execute_result"
    }
   ],
   "source": [
    "combined_data.columns"
   ]
  },
  {
   "cell_type": "markdown",
   "metadata": {},
   "source": [
    "## Calculating Reviews/Month"
   ]
  },
  {
   "cell_type": "code",
   "execution_count": 41,
   "metadata": {
    "collapsed": true
   },
   "outputs": [],
   "source": [
    "num_reviews = combined_data.pivot_table('stars', index='name', aggfunc=len)"
   ]
  },
  {
   "cell_type": "code",
   "execution_count": 42,
   "metadata": {
    "collapsed": false
   },
   "outputs": [
    {
     "data": {
      "text/plain": [
       "name\n",
       "#1 Brothers Pizza       26\n",
       "#1 Hawaiian Barbecue     9\n",
       "#1 Sushi                 7\n",
       "#1Brothers Pizza        25\n",
       "1 Brother's Pizza        8\n",
       "Name: stars, dtype: int64"
      ]
     },
     "execution_count": 42,
     "metadata": {},
     "output_type": "execute_result"
    }
   ],
   "source": [
    "num_reviews.head()"
   ]
  },
  {
   "cell_type": "code",
   "execution_count": 20,
   "metadata": {
    "collapsed": true
   },
   "outputs": [],
   "source": [
    "earliest_review = combined_data.pivot_table('date', index='name', aggfunc=np.min)"
   ]
  },
  {
   "cell_type": "code",
   "execution_count": 43,
   "metadata": {
    "collapsed": false
   },
   "outputs": [
    {
     "data": {
      "text/plain": [
       "name\n",
       "#1 Brothers Pizza      2010-01-31\n",
       "#1 Hawaiian Barbecue   2014-08-21\n",
       "#1 Sushi               2014-03-15\n",
       "#1Brothers Pizza       2010-08-09\n",
       "1 Brother's Pizza      2010-10-18\n",
       "Name: date, dtype: datetime64[ns]"
      ]
     },
     "execution_count": 43,
     "metadata": {},
     "output_type": "execute_result"
    }
   ],
   "source": [
    "earliest_review.head()"
   ]
  },
  {
   "cell_type": "code",
   "execution_count": 34,
   "metadata": {
    "collapsed": true
   },
   "outputs": [],
   "source": [
    "import datetime\n",
    "age = datetime.now() - earliest_review"
   ]
  },
  {
   "cell_type": "code",
   "execution_count": 52,
   "metadata": {
    "collapsed": true
   },
   "outputs": [],
   "source": [
    "# Casts the age to months. Gives a more meaningful value. Also turns it into float\n",
    "age = age.astype('timedelta64[M]')"
   ]
  },
  {
   "cell_type": "code",
   "execution_count": 53,
   "metadata": {
    "collapsed": true
   },
   "outputs": [],
   "source": [
    "reviews_per_month = num_reviews / age"
   ]
  },
  {
   "cell_type": "code",
   "execution_count": 54,
   "metadata": {
    "collapsed": false
   },
   "outputs": [
    {
     "data": {
      "text/plain": [
       "count    15321.000000\n",
       "mean         0.964815\n",
       "std          2.171169\n",
       "min          0.008772\n",
       "25%          0.123077\n",
       "50%          0.320000\n",
       "75%          0.931034\n",
       "max         69.921053\n",
       "dtype: float64"
      ]
     },
     "execution_count": 54,
     "metadata": {},
     "output_type": "execute_result"
    }
   ],
   "source": [
    "reviews_per_month.describe()"
   ]
  },
  {
   "cell_type": "code",
   "execution_count": 205,
   "metadata": {
    "collapsed": true
   },
   "outputs": [],
   "source": [
    "normalized_review_freq = reviews_per_month.apply(lambda x: (x - reviews_per_month.mean() + 4) /\n",
    "                        reviews_per_month.std()) * 2"
   ]
  },
  {
   "cell_type": "code",
   "execution_count": 178,
   "metadata": {
    "collapsed": false
   },
   "outputs": [
    {
     "data": {
      "text/plain": [
       "count    15321.000000\n",
       "mean        59.211628\n",
       "std          5.000000\n",
       "min         57.009950\n",
       "25%         57.273184\n",
       "50%         57.726679\n",
       "75%         59.133835\n",
       "max        218.011423\n",
       "dtype: float64"
      ]
     },
     "execution_count": 178,
     "metadata": {},
     "output_type": "execute_result"
    }
   ],
   "source": [
    "normalized_review_freq.describe()"
   ]
  },
  {
   "cell_type": "markdown",
   "metadata": {},
   "source": [
    "So now we have a normalized value with standard deviation 10, mean 0, and max 300."
   ]
  },
  {
   "cell_type": "markdown",
   "metadata": {},
   "source": [
    "## Getting Average Rating"
   ]
  },
  {
   "cell_type": "code",
   "execution_count": 77,
   "metadata": {
    "collapsed": true
   },
   "outputs": [],
   "source": [
    "avg_rating = combined_data.pivot_table('stars', index='name')"
   ]
  },
  {
   "cell_type": "code",
   "execution_count": 79,
   "metadata": {
    "collapsed": false
   },
   "outputs": [
    {
     "data": {
      "text/plain": [
       "count    15321.000000\n",
       "mean         3.604453\n",
       "std          0.671107\n",
       "min          1.000000\n",
       "25%          3.200000\n",
       "50%          3.666667\n",
       "75%          4.055556\n",
       "max          5.000000\n",
       "Name: stars, dtype: float64"
      ]
     },
     "execution_count": 79,
     "metadata": {},
     "output_type": "execute_result"
    }
   ],
   "source": [
    "avg_rating.describe()"
   ]
  },
  {
   "cell_type": "code",
   "execution_count": 206,
   "metadata": {
    "collapsed": true
   },
   "outputs": [],
   "source": [
    "avg_rating = avg_rating.apply(lambda x: (x - avg_rating.mean()) / \n",
    "                             avg_rating.std()) * 2"
   ]
  },
  {
   "cell_type": "code",
   "execution_count": 176,
   "metadata": {
    "collapsed": false
   },
   "outputs": [
    {
     "data": {
      "text/plain": [
       "count    15321.000000\n",
       "mean        54.000000\n",
       "std          5.000000\n",
       "min         34.595844\n",
       "25%         50.986673\n",
       "50%         54.463516\n",
       "75%         57.360885\n",
       "max         64.397352\n",
       "Name: stars, dtype: float64"
      ]
     },
     "execution_count": 176,
     "metadata": {},
     "output_type": "execute_result"
    }
   ],
   "source": [
    "avg_rating.describe()"
   ]
  },
  {
   "cell_type": "markdown",
   "metadata": {},
   "source": [
    "## Getting Age"
   ]
  },
  {
   "cell_type": "markdown",
   "metadata": {},
   "source": [
    "We already had to get this in order to calculate the reviews per month metric. "
   ]
  },
  {
   "cell_type": "code",
   "execution_count": 84,
   "metadata": {
    "collapsed": false
   },
   "outputs": [
    {
     "data": {
      "text/plain": [
       "name\n",
       "#1 Brothers Pizza       70\n",
       "#1 Hawaiian Barbecue    15\n",
       "#1 Sushi                20\n",
       "#1Brothers Pizza        63\n",
       "1 Brother's Pizza       61\n",
       "Name: date, dtype: float64"
      ]
     },
     "execution_count": 84,
     "metadata": {},
     "output_type": "execute_result"
    }
   ],
   "source": [
    "age.head()"
   ]
  },
  {
   "cell_type": "code",
   "execution_count": 207,
   "metadata": {
    "collapsed": true
   },
   "outputs": [],
   "source": [
    "# Add by 2 to get rid of negative values\n",
    "age = age.apply(lambda x: (x - age.mean()) / age.std()) * 2"
   ]
  },
  {
   "cell_type": "code",
   "execution_count": 190,
   "metadata": {
    "collapsed": false
   },
   "outputs": [
    {
     "data": {
      "text/plain": [
       "count    1.532100e+04\n",
       "mean     7.897142e-17\n",
       "std      5.000000e+00\n",
       "min     -9.620604e+00\n",
       "25%     -4.077868e+00\n",
       "50%      7.918323e-02\n",
       "75%      3.889814e+00\n",
       "max      1.151108e+01\n",
       "Name: date, dtype: float64"
      ]
     },
     "execution_count": 190,
     "metadata": {},
     "output_type": "execute_result"
    }
   ],
   "source": [
    "age.describe()"
   ]
  },
  {
   "cell_type": "markdown",
   "metadata": {},
   "source": [
    "# Coming up with our success metric"
   ]
  },
  {
   "cell_type": "code",
   "execution_count": 92,
   "metadata": {
    "collapsed": true
   },
   "outputs": [],
   "source": [
    "df = pd.DataFrame(dict(age=age, avg_rating=avg_rating, reviews_per_month=reviews_per_month))"
   ]
  },
  {
   "cell_type": "code",
   "execution_count": 97,
   "metadata": {
    "collapsed": false
   },
   "outputs": [
    {
     "data": {
      "text/html": [
       "<div>\n",
       "<table border=\"1\" class=\"dataframe\">\n",
       "  <thead>\n",
       "    <tr style=\"text-align: right;\">\n",
       "      <th></th>\n",
       "      <th>age</th>\n",
       "      <th>avg_rating</th>\n",
       "      <th>reviews_per_month</th>\n",
       "    </tr>\n",
       "    <tr>\n",
       "      <th>name</th>\n",
       "      <th></th>\n",
       "      <th></th>\n",
       "      <th></th>\n",
       "    </tr>\n",
       "  </thead>\n",
       "  <tbody>\n",
       "    <tr>\n",
       "      <th>#1 Brothers Pizza</th>\n",
       "      <td>1.197629</td>\n",
       "      <td>7.040162</td>\n",
       "      <td>0.371429</td>\n",
       "    </tr>\n",
       "    <tr>\n",
       "      <th>#1 Hawaiian Barbecue</th>\n",
       "      <td>-17.855524</td>\n",
       "      <td>-5.695525</td>\n",
       "      <td>0.600000</td>\n",
       "    </tr>\n",
       "    <tr>\n",
       "      <th>#1 Sushi</th>\n",
       "      <td>-16.123419</td>\n",
       "      <td>3.765271</td>\n",
       "      <td>0.350000</td>\n",
       "    </tr>\n",
       "    <tr>\n",
       "      <th>#1Brothers Pizza</th>\n",
       "      <td>-1.227317</td>\n",
       "      <td>-18.543287</td>\n",
       "      <td>0.396825</td>\n",
       "    </tr>\n",
       "    <tr>\n",
       "      <th>1 Brother's Pizza</th>\n",
       "      <td>-1.920159</td>\n",
       "      <td>-7.144210</td>\n",
       "      <td>0.131148</td>\n",
       "    </tr>\n",
       "  </tbody>\n",
       "</table>\n",
       "</div>"
      ]
     },
     "metadata": {},
     "output_type": "execute_result"
    }
   ],
   "source": [
    "df.head()"
   ]
  },
  {
   "cell_type": "code",
   "execution_count": 100,
   "metadata": {
    "collapsed": false
   },
   "outputs": [
    {
     "data": {
      "text/plain": [
       "array([[  1.19762936e+00,   7.04016217e+00,   3.71428571e-01],\n",
       "       [ -1.78555239e+01,  -5.69552521e+00,   6.00000000e-01],\n",
       "       [ -1.61234191e+01,   3.76527113e+00,   3.50000000e-01],\n",
       "       ..., \n",
       "       [ -8.84857873e+00,  -1.49671056e+01,   1.21951220e-01],\n",
       "       [  4.31541808e+00,   2.07947046e+01,   1.26582278e-02],\n",
       "       [ -2.95942226e+00,   1.43464249e+01,   2.94827586e+00]])"
      ]
     },
     "execution_count": 100,
     "metadata": {},
     "output_type": "execute_result"
    }
   ],
   "source": [
    "df.values"
   ]
  },
  {
   "cell_type": "code",
   "execution_count": 99,
   "metadata": {
    "collapsed": false
   },
   "outputs": [
    {
     "data": {
      "text/plain": [
       "array([[2, 0, 1],\n",
       "       [0, 1, 2],\n",
       "       [0, 2, 1],\n",
       "       ..., \n",
       "       [1, 0, 2],\n",
       "       [2, 0, 1],\n",
       "       [0, 2, 1]])"
      ]
     },
     "execution_count": 99,
     "metadata": {},
     "output_type": "execute_result"
    }
   ],
   "source": [
    "np.argsort(df.values, axis=1)"
   ]
  },
  {
   "cell_type": "code",
   "execution_count": 101,
   "metadata": {
    "collapsed": false
   },
   "outputs": [
    {
     "data": {
      "text/plain": [
       "array([[  3.71428571e-01,   1.19762936e+00,   7.04016217e+00],\n",
       "       [ -1.78555239e+01,  -5.69552521e+00,   6.00000000e-01],\n",
       "       [ -1.61234191e+01,   3.50000000e-01,   3.76527113e+00],\n",
       "       ..., \n",
       "       [ -1.49671056e+01,  -8.84857873e+00,   1.21951220e-01],\n",
       "       [  1.26582278e-02,   4.31541808e+00,   2.07947046e+01],\n",
       "       [ -2.95942226e+00,   2.94827586e+00,   1.43464249e+01]])"
      ]
     },
     "execution_count": 101,
     "metadata": {},
     "output_type": "execute_result"
    }
   ],
   "source": [
    "np.sort(df.values, axis=1)"
   ]
  },
  {
   "cell_type": "code",
   "execution_count": 184,
   "metadata": {
    "collapsed": true
   },
   "outputs": [],
   "source": [
    "def define_success(age, avg_rating, reviews_per_month):\n",
    "    \"\"\" \n",
    "    Defines success according to the following metric:\n",
    "    \n",
    "    Highest 2 of the 3: Age, Average Rating, Reviews/Month where each of the values\n",
    "    are standardized such taht the standard deviation is 10 and the mean is 0.\n",
    "    \"\"\"\n",
    "    df = pd.DataFrame(dict(age=age, avg_rating=avg_rating,\n",
    "                           reviews_per_month=reviews_per_month))\n",
    "    sorted_vals = np.sort(df.values, axis=1)\n",
    "    df['success_metric'] = sorted_vals[:, -1] * sorted_vals[:, -2]\n",
    "    \n",
    "    # Deals with edge case where two highest success metrics are 0.\n",
    "    df.loc[sorted_vals[:, -2] < 0, 'success_metric'] = 0\n",
    "    \n",
    "    return df"
   ]
  },
  {
   "cell_type": "code",
   "execution_count": 208,
   "metadata": {
    "collapsed": true
   },
   "outputs": [],
   "source": [
    "df = define_success(age, avg_rating, reviews_per_month)"
   ]
  },
  {
   "cell_type": "code",
   "execution_count": 209,
   "metadata": {
    "collapsed": false
   },
   "outputs": [
    {
     "data": {
      "text/html": [
       "<div>\n",
       "<table border=\"1\" class=\"dataframe\">\n",
       "  <thead>\n",
       "    <tr style=\"text-align: right;\">\n",
       "      <th></th>\n",
       "      <th>age</th>\n",
       "      <th>avg_rating</th>\n",
       "      <th>reviews_per_month</th>\n",
       "      <th>success_metric</th>\n",
       "    </tr>\n",
       "  </thead>\n",
       "  <tbody>\n",
       "    <tr>\n",
       "      <th>count</th>\n",
       "      <td>1.532100e+04</td>\n",
       "      <td>1.532100e+04</td>\n",
       "      <td>15321.000000</td>\n",
       "      <td>15321.000000</td>\n",
       "    </tr>\n",
       "    <tr>\n",
       "      <th>mean</th>\n",
       "      <td>-3.177552e-17</td>\n",
       "      <td>6.188437e-17</td>\n",
       "      <td>0.964815</td>\n",
       "      <td>1.872049</td>\n",
       "    </tr>\n",
       "    <tr>\n",
       "      <th>std</th>\n",
       "      <td>2.000000e+00</td>\n",
       "      <td>2.000000e+00</td>\n",
       "      <td>2.171169</td>\n",
       "      <td>4.842943</td>\n",
       "    </tr>\n",
       "    <tr>\n",
       "      <th>min</th>\n",
       "      <td>-3.848242e+00</td>\n",
       "      <td>-7.761662e+00</td>\n",
       "      <td>0.008772</td>\n",
       "      <td>0.000000</td>\n",
       "    </tr>\n",
       "    <tr>\n",
       "      <th>25%</th>\n",
       "      <td>-1.631147e+00</td>\n",
       "      <td>-1.205331e+00</td>\n",
       "      <td>0.123077</td>\n",
       "      <td>0.039397</td>\n",
       "    </tr>\n",
       "    <tr>\n",
       "      <th>50%</th>\n",
       "      <td>3.167329e-02</td>\n",
       "      <td>1.854064e-01</td>\n",
       "      <td>0.320000</td>\n",
       "      <td>0.397027</td>\n",
       "    </tr>\n",
       "    <tr>\n",
       "      <th>75%</th>\n",
       "      <td>1.555926e+00</td>\n",
       "      <td>1.344354e+00</td>\n",
       "      <td>0.931034</td>\n",
       "      <td>1.799411</td>\n",
       "    </tr>\n",
       "    <tr>\n",
       "      <th>max</th>\n",
       "      <td>4.604430e+00</td>\n",
       "      <td>4.158941e+00</td>\n",
       "      <td>69.921053</td>\n",
       "      <td>134.043980</td>\n",
       "    </tr>\n",
       "  </tbody>\n",
       "</table>\n",
       "</div>"
      ]
     },
     "metadata": {},
     "output_type": "execute_result"
    }
   ],
   "source": [
    "df.describe()"
   ]
  },
  {
   "cell_type": "code",
   "execution_count": 196,
   "metadata": {
    "collapsed": true
   },
   "outputs": [],
   "source": [
    "success = df['success_metric']"
   ]
  },
  {
   "cell_type": "code",
   "execution_count": 229,
   "metadata": {
    "collapsed": true
   },
   "outputs": [],
   "source": [
    "del combined_data['success_metric']"
   ]
  },
  {
   "cell_type": "code",
   "execution_count": 211,
   "metadata": {
    "collapsed": false
   },
   "outputs": [
    {
     "name": "stderr",
     "output_type": "stream",
     "text": [
      "/Users/Will/anaconda/envs/py34/lib/python3.4/site-packages/pandas/core/generic.py:938: PerformanceWarning: \n",
      "your performance may suffer as PyTables will pickle object types that it cannot\n",
      "map directly to c-types [inferred_type->mixed,key->block3_values] [items->['review_id', 'text', 'user_id', 'city', 'name', 'neighborhoods', 'hours']]\n",
      "\n",
      "  return pytables.to_hdf(path_or_buf, key, self, **kwargs)\n"
     ]
    }
   ],
   "source": [
    "combined_data.to_hdf('../data/d_success', 'df')"
   ]
  },
  {
   "cell_type": "code",
   "execution_count": 249,
   "metadata": {
    "collapsed": false
   },
   "outputs": [
    {
     "data": {
      "text/html": [
       "<div>\n",
       "<table border=\"1\" class=\"dataframe\">\n",
       "  <thead>\n",
       "    <tr style=\"text-align: right;\">\n",
       "      <th></th>\n",
       "      <th>date</th>\n",
       "      <th>review_id</th>\n",
       "      <th>text</th>\n",
       "      <th>user_id</th>\n",
       "      <th>city</th>\n",
       "      <th>latitude</th>\n",
       "      <th>longitude</th>\n",
       "      <th>name</th>\n",
       "      <th>neighborhoods</th>\n",
       "      <th>stars</th>\n",
       "      <th>hours</th>\n",
       "    </tr>\n",
       "  </thead>\n",
       "  <tbody>\n",
       "    <tr>\n",
       "      <th>526116</th>\n",
       "      <td>2010-07-24</td>\n",
       "      <td>uyS4KmUXo5ZFQd3GeHg5LA</td>\n",
       "      <td>Staying on a sweet tip, Starbucks stock a vari...</td>\n",
       "      <td>RXrul5VWnGmW0_sA1R8dUw</td>\n",
       "      <td>Edinburgh</td>\n",
       "      <td>55.946208</td>\n",
       "      <td>-3.205059</td>\n",
       "      <td>Starbucks</td>\n",
       "      <td>[Old Town]</td>\n",
       "      <td>2</td>\n",
       "      <td>{}</td>\n",
       "    </tr>\n",
       "    <tr>\n",
       "      <th>526117</th>\n",
       "      <td>2012-11-06</td>\n",
       "      <td>ioKwTXxT2fALtE6O04R-pQ</td>\n",
       "      <td>it's starbucks and i love starbucks, but the g...</td>\n",
       "      <td>hWD_PTfJUXjIYb1UJ0wNFg</td>\n",
       "      <td>Edinburgh</td>\n",
       "      <td>55.946208</td>\n",
       "      <td>-3.205059</td>\n",
       "      <td>Starbucks</td>\n",
       "      <td>[Old Town]</td>\n",
       "      <td>3</td>\n",
       "      <td>{}</td>\n",
       "    </tr>\n",
       "  </tbody>\n",
       "</table>\n",
       "</div>"
      ]
     },
     "metadata": {},
     "output_type": "execute_result"
    }
   ],
   "source": [
    "combined_data[combined_data.name == 'Starbucks'].head(2)"
   ]
  },
  {
   "cell_type": "markdown",
   "metadata": {},
   "source": [
    "# Need a Df with just business features"
   ]
  },
  {
   "cell_type": "code",
   "execution_count": 226,
   "metadata": {
    "collapsed": true
   },
   "outputs": [],
   "source": [
    "businesses = pd.read_hdf('../data/businesses.hdf')"
   ]
  },
  {
   "cell_type": "code",
   "execution_count": 238,
   "metadata": {
    "collapsed": true
   },
   "outputs": [],
   "source": [
    "businesses = businesses.join(success, on='name')"
   ]
  },
  {
   "cell_type": "code",
   "execution_count": 241,
   "metadata": {
    "collapsed": false
   },
   "outputs": [
    {
     "data": {
      "text/plain": [
       "22758"
      ]
     },
     "execution_count": 241,
     "metadata": {},
     "output_type": "execute_result"
    }
   ],
   "source": [
    "businesses.success_metric.count()"
   ]
  },
  {
   "cell_type": "code",
   "execution_count": 246,
   "metadata": {
    "collapsed": true
   },
   "outputs": [],
   "source": [
    "businesses = businesses[businesses.success_metric.notnull()]"
   ]
  },
  {
   "cell_type": "code",
   "execution_count": 247,
   "metadata": {
    "collapsed": false,
    "scrolled": true
   },
   "outputs": [
    {
     "name": "stderr",
     "output_type": "stream",
     "text": [
      "/Users/Will/anaconda/envs/py34/lib/python3.4/site-packages/pandas/core/generic.py:938: PerformanceWarning: \n",
      "your performance may suffer as PyTables will pickle object types that it cannot\n",
      "map directly to c-types [inferred_type->mixed,key->block3_values] [items->['business_id', 'categories', 'city', 'full_address', 'hours', 'name', 'neighborhoods', 'state', 'type']]\n",
      "\n",
      "  return pytables.to_hdf(path_or_buf, key, self, **kwargs)\n"
     ]
    }
   ],
   "source": [
    "businesses.to_hdf('../data/bus_with_sucess.hdf', 'df')"
   ]
  }
 ],
 "metadata": {
  "kernelspec": {
   "display_name": "Python 3",
   "language": "python",
   "name": "python3"
  },
  "language_info": {
   "codemirror_mode": {
    "name": "ipython",
    "version": 3
   },
   "file_extension": ".py",
   "mimetype": "text/x-python",
   "name": "python",
   "nbconvert_exporter": "python",
   "pygments_lexer": "ipython3",
   "version": "3.4.3"
  }
 },
 "nbformat": 4,
 "nbformat_minor": 0
}
