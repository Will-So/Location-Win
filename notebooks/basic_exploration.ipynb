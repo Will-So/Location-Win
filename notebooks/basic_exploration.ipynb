{
 "cells": [
  {
   "cell_type": "code",
   "execution_count": 2,
   "metadata": {
    "collapsed": false
   },
   "outputs": [
    {
     "name": "stdout",
     "output_type": "stream",
     "text": [
      "Populating the interactive namespace from numpy and matplotlib\n"
     ]
    }
   ],
   "source": [
    "%pylab inline\n",
    "import pandas as pd"
   ]
  },
  {
   "cell_type": "code",
   "execution_count": 3,
   "metadata": {
    "collapsed": false
   },
   "outputs": [],
   "source": [
    "combined_data = pd.read_hdf('../data/restaurant_reviews.hdf')"
   ]
  },
  {
   "cell_type": "code",
   "execution_count": 4,
   "metadata": {
    "collapsed": true
   },
   "outputs": [],
   "source": [
    "business_data = pd.read_hdf('../data/sentiment_data.hdf')"
   ]
  },
  {
   "cell_type": "code",
   "execution_count": 7,
   "metadata": {
    "collapsed": false
   },
   "outputs": [
    {
     "data": {
      "text/html": [
       "<div>\n",
       "<table border=\"1\" class=\"dataframe\">\n",
       "  <thead>\n",
       "    <tr style=\"text-align: right;\">\n",
       "      <th></th>\n",
       "      <th>date</th>\n",
       "      <th>review_id</th>\n",
       "      <th>text</th>\n",
       "      <th>user_id</th>\n",
       "      <th>city</th>\n",
       "      <th>latitude</th>\n",
       "      <th>longitude</th>\n",
       "      <th>name</th>\n",
       "      <th>neighborhoods</th>\n",
       "      <th>stars</th>\n",
       "      <th>hours</th>\n",
       "    </tr>\n",
       "  </thead>\n",
       "  <tbody>\n",
       "    <tr>\n",
       "      <th>0</th>\n",
       "      <td>2012-12-01</td>\n",
       "      <td>6w6gMZ3iBLGcUM4RBIuifQ</td>\n",
       "      <td>This place was DELICIOUS!!  My parents saw a r...</td>\n",
       "      <td>LWbYpcangjBMm4KPxZGOKg</td>\n",
       "      <td>Braddock</td>\n",
       "      <td>40.408735</td>\n",
       "      <td>-79.866351</td>\n",
       "      <td>Emil's Lounge</td>\n",
       "      <td>[]</td>\n",
       "      <td>5</td>\n",
       "      <td>{'Thursday': {'close': '19:00', 'open': '10:00...</td>\n",
       "    </tr>\n",
       "    <tr>\n",
       "      <th>1</th>\n",
       "      <td>2013-03-15</td>\n",
       "      <td>jVVv_DA5mCDB6mediuwHAw</td>\n",
       "      <td>Can't miss stop for the best Fish Sandwich in ...</td>\n",
       "      <td>m1FpV3EAeggaAdfPx0hBRQ</td>\n",
       "      <td>Braddock</td>\n",
       "      <td>40.408735</td>\n",
       "      <td>-79.866351</td>\n",
       "      <td>Emil's Lounge</td>\n",
       "      <td>[]</td>\n",
       "      <td>5</td>\n",
       "      <td>{'Thursday': {'close': '19:00', 'open': '10:00...</td>\n",
       "    </tr>\n",
       "    <tr>\n",
       "      <th>2</th>\n",
       "      <td>2013-03-30</td>\n",
       "      <td>3Es8GsjkssusYgeU6_ZVpQ</td>\n",
       "      <td>This place should have a lot more reviews - bu...</td>\n",
       "      <td>8fApIAMHn2MZJFUiCQto5Q</td>\n",
       "      <td>Braddock</td>\n",
       "      <td>40.408735</td>\n",
       "      <td>-79.866351</td>\n",
       "      <td>Emil's Lounge</td>\n",
       "      <td>[]</td>\n",
       "      <td>5</td>\n",
       "      <td>{'Thursday': {'close': '19:00', 'open': '10:00...</td>\n",
       "    </tr>\n",
       "    <tr>\n",
       "      <th>3</th>\n",
       "      <td>2013-10-20</td>\n",
       "      <td>KAkcn7oQP1xX8KsZ-XmktA</td>\n",
       "      <td>This place was very good. I found out about Em...</td>\n",
       "      <td>uK8tzraOp4M5u3uYrqIBXg</td>\n",
       "      <td>Braddock</td>\n",
       "      <td>40.408735</td>\n",
       "      <td>-79.866351</td>\n",
       "      <td>Emil's Lounge</td>\n",
       "      <td>[]</td>\n",
       "      <td>4</td>\n",
       "      <td>{'Thursday': {'close': '19:00', 'open': '10:00...</td>\n",
       "    </tr>\n",
       "    <tr>\n",
       "      <th>4</th>\n",
       "      <td>2013-11-07</td>\n",
       "      <td>BZNJkkP0bXnwQ2-sCqat2Q</td>\n",
       "      <td>Old school.....traditional \"mom 'n pop\" qualit...</td>\n",
       "      <td>6wvlM5L4_EroGXbnb_92xQ</td>\n",
       "      <td>Braddock</td>\n",
       "      <td>40.408735</td>\n",
       "      <td>-79.866351</td>\n",
       "      <td>Emil's Lounge</td>\n",
       "      <td>[]</td>\n",
       "      <td>5</td>\n",
       "      <td>{'Thursday': {'close': '19:00', 'open': '10:00...</td>\n",
       "    </tr>\n",
       "  </tbody>\n",
       "</table>\n",
       "</div>"
      ],
      "text/plain": [
       "        date               review_id  \\\n",
       "0 2012-12-01  6w6gMZ3iBLGcUM4RBIuifQ   \n",
       "1 2013-03-15  jVVv_DA5mCDB6mediuwHAw   \n",
       "2 2013-03-30  3Es8GsjkssusYgeU6_ZVpQ   \n",
       "3 2013-10-20  KAkcn7oQP1xX8KsZ-XmktA   \n",
       "4 2013-11-07  BZNJkkP0bXnwQ2-sCqat2Q   \n",
       "\n",
       "                                                text                 user_id  \\\n",
       "0  This place was DELICIOUS!!  My parents saw a r...  LWbYpcangjBMm4KPxZGOKg   \n",
       "1  Can't miss stop for the best Fish Sandwich in ...  m1FpV3EAeggaAdfPx0hBRQ   \n",
       "2  This place should have a lot more reviews - bu...  8fApIAMHn2MZJFUiCQto5Q   \n",
       "3  This place was very good. I found out about Em...  uK8tzraOp4M5u3uYrqIBXg   \n",
       "4  Old school.....traditional \"mom 'n pop\" qualit...  6wvlM5L4_EroGXbnb_92xQ   \n",
       "\n",
       "       city   latitude  longitude           name neighborhoods  stars  \\\n",
       "0  Braddock  40.408735 -79.866351  Emil's Lounge            []      5   \n",
       "1  Braddock  40.408735 -79.866351  Emil's Lounge            []      5   \n",
       "2  Braddock  40.408735 -79.866351  Emil's Lounge            []      5   \n",
       "3  Braddock  40.408735 -79.866351  Emil's Lounge            []      4   \n",
       "4  Braddock  40.408735 -79.866351  Emil's Lounge            []      5   \n",
       "\n",
       "                                               hours  \n",
       "0  {'Thursday': {'close': '19:00', 'open': '10:00...  \n",
       "1  {'Thursday': {'close': '19:00', 'open': '10:00...  \n",
       "2  {'Thursday': {'close': '19:00', 'open': '10:00...  \n",
       "3  {'Thursday': {'close': '19:00', 'open': '10:00...  \n",
       "4  {'Thursday': {'close': '19:00', 'open': '10:00...  "
      ]
     },
     "execution_count": 7,
     "metadata": {},
     "output_type": "execute_result"
    }
   ],
   "source": [
    "combined_data.head()"
   ]
  },
  {
   "cell_type": "code",
   "execution_count": 44,
   "metadata": {
    "collapsed": false,
    "scrolled": true
   },
   "outputs": [
    {
     "data": {
      "text/plain": [
       "Las Vegas     370194\n",
       "Phoenix       141200\n",
       "Scottsdale     78461\n",
       "Charlotte      59861\n",
       "Pittsburgh     44126\n",
       "Tempe          41814\n",
       "Henderson      28745\n",
       "Chandler       26859\n",
       "Madison        26312\n",
       "Mesa           24743\n",
       "Montréal       20439\n",
       "Gilbert        16991\n",
       "Glendale       15122\n",
       "Edinburgh      11474\n",
       "Montreal       10823\n",
       "Name: city, dtype: int64"
      ]
     },
     "execution_count": 44,
     "metadata": {},
     "output_type": "execute_result"
    }
   ],
   "source": [
    "combined_data.city.value_counts()[:15]"
   ]
  },
  {
   "cell_type": "code",
   "execution_count": 18,
   "metadata": {
    "collapsed": false
   },
   "outputs": [],
   "source": [
    "vegas = combined_data[combined_data.city == 'Las Vegas']"
   ]
  },
  {
   "cell_type": "code",
   "execution_count": 20,
   "metadata": {
    "collapsed": false
   },
   "outputs": [
    {
     "data": {
      "text/plain": [
       "count    370194.000000\n",
       "mean         36.119310\n",
       "std           0.043711\n",
       "min          35.973171\n",
       "25%          36.104801\n",
       "50%          36.117034\n",
       "75%          36.131897\n",
       "max          36.325757\n",
       "Name: latitude, dtype: float64"
      ]
     },
     "execution_count": 20,
     "metadata": {},
     "output_type": "execute_result"
    }
   ],
   "source": [
    "vegas.latitude.describe()"
   ]
  },
  {
   "cell_type": "code",
   "execution_count": 21,
   "metadata": {
    "collapsed": false
   },
   "outputs": [
    {
     "data": {
      "text/plain": [
       "count    370194.000000\n",
       "mean       -115.189820\n",
       "std           0.050648\n",
       "min        -115.351900\n",
       "25%        -115.208430\n",
       "50%        -115.174356\n",
       "75%        -115.166312\n",
       "max        -114.990361\n",
       "Name: longitude, dtype: float64"
      ]
     },
     "execution_count": 21,
     "metadata": {},
     "output_type": "execute_result"
    }
   ],
   "source": [
    "vegas.longitude.describe()"
   ]
  },
  {
   "cell_type": "markdown",
   "metadata": {},
   "source": [
    "So .005 might be a good amount to change in both cases"
   ]
  },
  {
   "cell_type": "code",
   "execution_count": 29,
   "metadata": {
    "collapsed": false,
    "scrolled": true
   },
   "outputs": [
    {
     "name": "stderr",
     "output_type": "stream",
     "text": [
      "/Users/Will/anaconda/envs/py34/lib/python3.4/site-packages/ipykernel/__main__.py:1: SettingWithCopyWarning: \n",
      "A value is trying to be set on a copy of a slice from a DataFrame.\n",
      "Try using .loc[row_indexer,col_indexer] = value instead\n",
      "\n",
      "See the caveats in the documentation: http://pandas.pydata.org/pandas-docs/stable/indexing.html#indexing-view-versus-copy\n",
      "  if __name__ == '__main__':\n"
     ]
    }
   ],
   "source": [
    "vegas['box'] = pd.cut(vegas.longitude, 35)"
   ]
  },
  {
   "cell_type": "code",
   "execution_count": 37,
   "metadata": {
    "collapsed": false
   },
   "outputs": [
    {
     "data": {
      "text/html": [
       "<div>\n",
       "<table border=\"1\" class=\"dataframe\">\n",
       "  <thead>\n",
       "    <tr style=\"text-align: right;\">\n",
       "      <th></th>\n",
       "      <th>date</th>\n",
       "      <th>review_id</th>\n",
       "      <th>text</th>\n",
       "      <th>user_id</th>\n",
       "      <th>city</th>\n",
       "      <th>latitude</th>\n",
       "      <th>longitude</th>\n",
       "      <th>name</th>\n",
       "      <th>neighborhoods</th>\n",
       "      <th>stars</th>\n",
       "      <th>hours</th>\n",
       "    </tr>\n",
       "  </thead>\n",
       "  <tbody>\n",
       "    <tr>\n",
       "      <th>0</th>\n",
       "      <td>2012-12-01</td>\n",
       "      <td>6w6gMZ3iBLGcUM4RBIuifQ</td>\n",
       "      <td>This place was DELICIOUS!!  My parents saw a r...</td>\n",
       "      <td>LWbYpcangjBMm4KPxZGOKg</td>\n",
       "      <td>Braddock</td>\n",
       "      <td>40.408735</td>\n",
       "      <td>-79.866351</td>\n",
       "      <td>Emil's Lounge</td>\n",
       "      <td>[]</td>\n",
       "      <td>5</td>\n",
       "      <td>{'Thursday': {'close': '19:00', 'open': '10:00...</td>\n",
       "    </tr>\n",
       "    <tr>\n",
       "      <th>1</th>\n",
       "      <td>2013-03-15</td>\n",
       "      <td>jVVv_DA5mCDB6mediuwHAw</td>\n",
       "      <td>Can't miss stop for the best Fish Sandwich in ...</td>\n",
       "      <td>m1FpV3EAeggaAdfPx0hBRQ</td>\n",
       "      <td>Braddock</td>\n",
       "      <td>40.408735</td>\n",
       "      <td>-79.866351</td>\n",
       "      <td>Emil's Lounge</td>\n",
       "      <td>[]</td>\n",
       "      <td>5</td>\n",
       "      <td>{'Thursday': {'close': '19:00', 'open': '10:00...</td>\n",
       "    </tr>\n",
       "    <tr>\n",
       "      <th>2</th>\n",
       "      <td>2013-03-30</td>\n",
       "      <td>3Es8GsjkssusYgeU6_ZVpQ</td>\n",
       "      <td>This place should have a lot more reviews - bu...</td>\n",
       "      <td>8fApIAMHn2MZJFUiCQto5Q</td>\n",
       "      <td>Braddock</td>\n",
       "      <td>40.408735</td>\n",
       "      <td>-79.866351</td>\n",
       "      <td>Emil's Lounge</td>\n",
       "      <td>[]</td>\n",
       "      <td>5</td>\n",
       "      <td>{'Thursday': {'close': '19:00', 'open': '10:00...</td>\n",
       "    </tr>\n",
       "    <tr>\n",
       "      <th>3</th>\n",
       "      <td>2013-10-20</td>\n",
       "      <td>KAkcn7oQP1xX8KsZ-XmktA</td>\n",
       "      <td>This place was very good. I found out about Em...</td>\n",
       "      <td>uK8tzraOp4M5u3uYrqIBXg</td>\n",
       "      <td>Braddock</td>\n",
       "      <td>40.408735</td>\n",
       "      <td>-79.866351</td>\n",
       "      <td>Emil's Lounge</td>\n",
       "      <td>[]</td>\n",
       "      <td>4</td>\n",
       "      <td>{'Thursday': {'close': '19:00', 'open': '10:00...</td>\n",
       "    </tr>\n",
       "    <tr>\n",
       "      <th>4</th>\n",
       "      <td>2013-11-07</td>\n",
       "      <td>BZNJkkP0bXnwQ2-sCqat2Q</td>\n",
       "      <td>Old school.....traditional \"mom 'n pop\" qualit...</td>\n",
       "      <td>6wvlM5L4_EroGXbnb_92xQ</td>\n",
       "      <td>Braddock</td>\n",
       "      <td>40.408735</td>\n",
       "      <td>-79.866351</td>\n",
       "      <td>Emil's Lounge</td>\n",
       "      <td>[]</td>\n",
       "      <td>5</td>\n",
       "      <td>{'Thursday': {'close': '19:00', 'open': '10:00...</td>\n",
       "    </tr>\n",
       "  </tbody>\n",
       "</table>\n",
       "</div>"
      ],
      "text/plain": [
       "        date               review_id  \\\n",
       "0 2012-12-01  6w6gMZ3iBLGcUM4RBIuifQ   \n",
       "1 2013-03-15  jVVv_DA5mCDB6mediuwHAw   \n",
       "2 2013-03-30  3Es8GsjkssusYgeU6_ZVpQ   \n",
       "3 2013-10-20  KAkcn7oQP1xX8KsZ-XmktA   \n",
       "4 2013-11-07  BZNJkkP0bXnwQ2-sCqat2Q   \n",
       "\n",
       "                                                text                 user_id  \\\n",
       "0  This place was DELICIOUS!!  My parents saw a r...  LWbYpcangjBMm4KPxZGOKg   \n",
       "1  Can't miss stop for the best Fish Sandwich in ...  m1FpV3EAeggaAdfPx0hBRQ   \n",
       "2  This place should have a lot more reviews - bu...  8fApIAMHn2MZJFUiCQto5Q   \n",
       "3  This place was very good. I found out about Em...  uK8tzraOp4M5u3uYrqIBXg   \n",
       "4  Old school.....traditional \"mom 'n pop\" qualit...  6wvlM5L4_EroGXbnb_92xQ   \n",
       "\n",
       "       city   latitude  longitude           name neighborhoods  stars  \\\n",
       "0  Braddock  40.408735 -79.866351  Emil's Lounge            []      5   \n",
       "1  Braddock  40.408735 -79.866351  Emil's Lounge            []      5   \n",
       "2  Braddock  40.408735 -79.866351  Emil's Lounge            []      5   \n",
       "3  Braddock  40.408735 -79.866351  Emil's Lounge            []      4   \n",
       "4  Braddock  40.408735 -79.866351  Emil's Lounge            []      5   \n",
       "\n",
       "                                               hours  \n",
       "0  {'Thursday': {'close': '19:00', 'open': '10:00...  \n",
       "1  {'Thursday': {'close': '19:00', 'open': '10:00...  \n",
       "2  {'Thursday': {'close': '19:00', 'open': '10:00...  \n",
       "3  {'Thursday': {'close': '19:00', 'open': '10:00...  \n",
       "4  {'Thursday': {'close': '19:00', 'open': '10:00...  "
      ]
     },
     "execution_count": 37,
     "metadata": {},
     "output_type": "execute_result"
    }
   ],
   "source": [
    "combined_data.head()"
   ]
  },
  {
   "cell_type": "code",
   "execution_count": 30,
   "metadata": {
    "collapsed": false,
    "scrolled": true
   },
   "outputs": [
    {
     "ename": "TypeError",
     "evalue": "You have to supply one of 'by' and 'level'",
     "output_type": "error",
     "traceback": [
      "\u001b[0;31m---------------------------------------------------------------------------\u001b[0m",
      "\u001b[0;31mTypeError\u001b[0m                                 Traceback (most recent call last)",
      "\u001b[0;32m<ipython-input-30-922f4c2631e7>\u001b[0m in \u001b[0;36m<module>\u001b[0;34m()\u001b[0m\n\u001b[0;32m----> 1\u001b[0;31m \u001b[0mcombined_data\u001b[0m\u001b[0;34m.\u001b[0m\u001b[0mgroupby\u001b[0m\u001b[0;34m(\u001b[0m\u001b[0;34m)\u001b[0m\u001b[0;34m\u001b[0m\u001b[0m\n\u001b[0m",
      "\u001b[0;32m/Users/Will/anaconda/envs/py34/lib/python3.4/site-packages/pandas/core/generic.py\u001b[0m in \u001b[0;36mgroupby\u001b[0;34m(self, by, axis, level, as_index, sort, group_keys, squeeze)\u001b[0m\n\u001b[1;32m   3319\u001b[0m \u001b[0;34m\u001b[0m\u001b[0m\n\u001b[1;32m   3320\u001b[0m         \u001b[0;32mif\u001b[0m \u001b[0mlevel\u001b[0m \u001b[0;32mis\u001b[0m \u001b[0;32mNone\u001b[0m \u001b[0;32mand\u001b[0m \u001b[0mby\u001b[0m \u001b[0;32mis\u001b[0m \u001b[0;32mNone\u001b[0m\u001b[0;34m:\u001b[0m\u001b[0;34m\u001b[0m\u001b[0m\n\u001b[0;32m-> 3321\u001b[0;31m             \u001b[0;32mraise\u001b[0m \u001b[0mTypeError\u001b[0m\u001b[0;34m(\u001b[0m\u001b[0;34m\"You have to supply one of 'by' and 'level'\"\u001b[0m\u001b[0;34m)\u001b[0m\u001b[0;34m\u001b[0m\u001b[0m\n\u001b[0m\u001b[1;32m   3322\u001b[0m         \u001b[0maxis\u001b[0m \u001b[0;34m=\u001b[0m \u001b[0mself\u001b[0m\u001b[0;34m.\u001b[0m\u001b[0m_get_axis_number\u001b[0m\u001b[0;34m(\u001b[0m\u001b[0maxis\u001b[0m\u001b[0;34m)\u001b[0m\u001b[0;34m\u001b[0m\u001b[0m\n\u001b[1;32m   3323\u001b[0m         return groupby(self, by=by, axis=axis, level=level, as_index=as_index,\n",
      "\u001b[0;31mTypeError\u001b[0m: You have to supply one of 'by' and 'level'"
     ]
    }
   ],
   "source": [
    "pivot = pd.pivot_table(combined_data, index='city',\n",
    "                       aggfunc=pd.cut(['']))"
   ]
  },
  {
   "cell_type": "code",
   "execution_count": null,
   "metadata": {
    "collapsed": true
   },
   "outputs": [],
   "source": []
  }
 ],
 "metadata": {
  "kernelspec": {
   "display_name": "Python 3",
   "language": "python",
   "name": "python3"
  },
  "language_info": {
   "codemirror_mode": {
    "name": "ipython",
    "version": 3
   },
   "file_extension": ".py",
   "mimetype": "text/x-python",
   "name": "python",
   "nbconvert_exporter": "python",
   "pygments_lexer": "ipython3",
   "version": "3.4.3"
  }
 },
 "nbformat": 4,
 "nbformat_minor": 0
}
