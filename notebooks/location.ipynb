{
 "cells": [
  {
   "cell_type": "markdown",
   "metadata": {},
   "source": [
    "# Working with Location"
   ]
  },
  {
   "cell_type": "markdown",
   "metadata": {},
   "source": [
    "One degree latitude is about equal to 110.5km. One degree Longitude is $111.32 * cos(latitude)km$. Latitude goes from 90 to -90. \n",
    "\n",
    "- Is making boxes the right way to go? Maybe doing "
   ]
  },
  {
   "cell_type": "code",
   "execution_count": 6,
   "metadata": {
    "collapsed": true
   },
   "outputs": [],
   "source": [
    "from math import cos\n",
    "import math"
   ]
  },
  {
   "cell_type": "code",
   "execution_count": 16,
   "metadata": {
    "collapsed": true
   },
   "outputs": [],
   "source": [
    "lat = 65"
   ]
  },
  {
   "cell_type": "code",
   "execution_count": 17,
   "metadata": {
    "collapsed": false
   },
   "outputs": [
    {
     "data": {
      "text/plain": [
       "46.91062705321764"
      ]
     },
     "execution_count": 17,
     "metadata": {},
     "output_type": "execute_result"
    }
   ],
   "source": [
    "111 * cos(math.radians(lat))"
   ]
  },
  {
   "cell_type": "code",
   "execution_count": 20,
   "metadata": {
    "collapsed": true
   },
   "outputs": [],
   "source": [
    "km_lat = 110"
   ]
  },
  {
   "cell_type": "code",
   "execution_count": 21,
   "metadata": {
    "collapsed": false
   },
   "outputs": [
    {
     "data": {
      "text/plain": [
       "0.55"
      ]
     },
     "execution_count": 21,
     "metadata": {},
     "output_type": "execute_result"
    }
   ],
   "source": [
    "km_lat / 100"
   ]
  },
  {
   "cell_type": "markdown",
   "metadata": {},
   "source": [
    "# Important Libraries"
   ]
  },
  {
   "cell_type": "markdown",
   "metadata": {},
   "source": [
    "- Geopandas\n",
    "- Shapely (Planar Geometries, predicates, and operations)\n"
   ]
  },
  {
   "cell_type": "markdown",
   "metadata": {},
   "source": [
    "# Resources"
   ]
  },
  {
   "cell_type": "markdown",
   "metadata": {},
   "source": [
    "- Good thing on doing an Apply for individual [groups](http://chrisalbon.com/python/pandas_apply_operations_to_groups.html)\n",
    "- http://stackoverflow.com/questions/31755886/choropleth-map-from-geopandas-geodatafame\n",
    "- https://pypi.python.org/pypi/Shapely/1.2b6\n",
    "- http://gis.stackexchange.com/questions/91742/looking-for-python-module-to-do-lat-lon-calculations\n",
    "- https://michelleful.github.io/code-blog/2015/04/27/osm-data/\n",
    "- http://beneathdata.com/how-to/visualizing-my-location-history/\n",
    "    - Good comprehsnive blog"
   ]
  }
 ],
 "metadata": {
  "kernelspec": {
   "display_name": "Python 3",
   "language": "python",
   "name": "python3"
  },
  "language_info": {
   "codemirror_mode": {
    "name": "ipython",
    "version": 3
   },
   "file_extension": ".py",
   "mimetype": "text/x-python",
   "name": "python",
   "nbconvert_exporter": "python",
   "pygments_lexer": "ipython3",
   "version": "3.4.3"
  }
 },
 "nbformat": 4,
 "nbformat_minor": 0
}
