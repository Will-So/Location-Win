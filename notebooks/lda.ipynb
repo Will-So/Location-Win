{
 "cells": [
  {
   "cell_type": "markdown",
   "metadata": {},
   "source": [
    "# Overview"
   ]
  },
  {
   "cell_type": "markdown",
   "metadata": {},
   "source": [
    "In this notebook, I use LDA to model latent topics. Latent models don't always yield useful results and it is difficult to know whether they will be useful or not until we actually start. \n",
    "\n",
    "Steps:\n",
    "\n",
    "1. Group the Data by restauarant and then squish the review text together. \n",
    "\n",
    "Extensions:\n",
    "\n",
    "1. Consider only positive reviews. (Happy in the same say, upset for all different ways)\n",
    "2. COnsider only negative reviews. "
   ]
  },
  {
   "cell_type": "code",
   "execution_count": 1,
   "metadata": {
    "collapsed": false
   },
   "outputs": [],
   "source": [
    "import pandas as pd\n",
    "from gensim.models.ldamulticore import LdaMulticore\n",
    "import gensim"
   ]
  },
  {
   "cell_type": "code",
   "execution_count": 2,
   "metadata": {
    "collapsed": false
   },
   "outputs": [],
   "source": [
    "combined_data = pd.read_hdf('../data/restaurant_reviews.hdf')"
   ]
  },
  {
   "cell_type": "code",
   "execution_count": 4,
   "metadata": {
    "collapsed": false
   },
   "outputs": [
    {
     "data": {
      "text/plain": [
       "Index(['date', 'review_id', 'text', 'user_id', 'city', 'latitude', 'longitude',\n",
       "       'name', 'neighborhoods', 'stars', 'hours'],\n",
       "      dtype='object')"
      ]
     },
     "execution_count": 4,
     "metadata": {},
     "output_type": "execute_result"
    }
   ],
   "source": [
    "combined_data.columns"
   ]
  },
  {
   "cell_type": "code",
   "execution_count": 3,
   "metadata": {
    "collapsed": false
   },
   "outputs": [],
   "source": [
    "g_rest = combined_data.groupby(combined_data.name)"
   ]
  },
  {
   "cell_type": "code",
   "execution_count": 4,
   "metadata": {
    "collapsed": false,
    "scrolled": true
   },
   "outputs": [
    {
     "data": {
      "text/plain": [
       "15321"
      ]
     },
     "execution_count": 4,
     "metadata": {},
     "output_type": "execute_result"
    }
   ],
   "source": [
    "len(g_rest.stars.mean())"
   ]
  },
  {
   "cell_type": "code",
   "execution_count": 5,
   "metadata": {
    "collapsed": true
   },
   "outputs": [],
   "source": [
    "text = g_rest.text.apply(lambda x: '\\n'.join(x)).reset_index()"
   ]
  },
  {
   "cell_type": "code",
   "execution_count": 6,
   "metadata": {
    "collapsed": false
   },
   "outputs": [
    {
     "data": {
      "text/plain": [
       "0        So this place isn't spectacular, but it is def...\n",
       "1        I really like this place. The portions are lar...\n",
       "2        Delicious Sushi! Very big, fresh, tasty, flavo...\n",
       "3        Pizza was just plain, nothing special. I have ...\n",
       "4        I don't like the pizza hear and if you go for ...\n",
       "5        I used to hang out here alot in my high school...\n",
       "6        For the best Chinese buffet dining in Eastern ...\n",
       "7        As far as listing what's good about this place...\n",
       "8        Drive through mexican food is truly 100% Natur...\n",
       "9        I really wanted to like this place, given the ...\n",
       "10       Brand new 101 here hit the ground running this...\n",
       "11       First of all, please forgive. I have been AWOL...\n",
       "12       I have the number for this take away programme...\n",
       "13       Nice place in the heart of Wesmount. \\n\\nI wen...\n",
       "14       Hubby and I had been excited a few weeks ago w...\n",
       "15       God I so wish I liked this place. The inside i...\n",
       "16       This is only getting 3 stars because it is in ...\n",
       "17       Took a gentleman I was interviewing and his wi...\n",
       "18       My boyfriend took me here after I told him abo...\n",
       "19       This is definitely one my favorite b&g style p...\n",
       "20       Fantastic food, great atmosphere and excellent...\n",
       "21       What a great little place right off carson.\\n\\...\n",
       "22       Went in for takeout, and was surprised to see ...\n",
       "23       A worthy effort. I had the nachos, which I onl...\n",
       "24       To my surprise that I found a little gem in La...\n",
       "25       Prices high, food great, but I can't afford th...\n",
       "26       1900 Asian Cuisine is the newest Chinese resta...\n",
       "27       This is a nice little Mexican place-  the food...\n",
       "28       I was recently in some training in Pittsburgh,...\n",
       "29       Wooo!  Stopped by when a friend said to meet h...\n",
       "                               ...                        \n",
       "15291    I tried this restaurant for lunch with the wif...\n",
       "15292    While recently travelling in Montreal I found ...\n",
       "15293    Their beef noodle soup is authentic and super ...\n",
       "15294    Great pizza and Italian food from a great loca...\n",
       "15295    This is a charming, family owned business.  I ...\n",
       "15296    Itamae recently opened right across from Wilfi...\n",
       "15297    I visited Itchycoo this afternoon with the lov...\n",
       "15298    After a long day at the pool we were in the mo...\n",
       "15299    Really solid little bistro. Fast, friendly, at...\n",
       "15300    The place has good burgers, but I personally f...\n",
       "15301    Atmosphäre ungemütlich (man sitzt zwischen Spi...\n",
       "15302    Being a (closet) fan of Jaimee Rose's  Azcentr...\n",
       "15303    Chef David Racicot is a culinary phoenix. Alon...\n",
       "15304    Stopped in to get a Steamie Sandwich.  Parker'...\n",
       "15305    Das Ambiente ist sehr schön. Beim Preis-Leistu...\n",
       "15306    Came with the full family after a play at the ...\n",
       "15307    Kiosk / Bistro im Schwimmbad, das auch ohne Ei...\n",
       "15308    I LOVE this cafe. This neighborhood was so in ...\n",
       "15309    Back to the 60s!!\\n\\nSehr abgelebtes Hotel. Es...\n",
       "15310    A few friends and i tried the new all you can ...\n",
       "15311    A new place that just opened today...another G...\n",
       "15312    Nicht wirklich etwas Besonderes, aber sehr net...\n",
       "15313    After hearing all the raves and rants from our...\n",
       "15314    ....seit zwei Wochen neu in Ettlingen, haben m...\n",
       "15315    Good pizza ... they deliver to downtown ... cu...\n",
       "15316    An adorable little gem hidden on Fleury! I wen...\n",
       "15317    We were surprised at 1pm to be told that the d...\n",
       "15318    Not a huge fan of the overall disorderly atmos...\n",
       "15319    Best Döner in Town!\\n\\n\\n Ok, in Rheinstetten-...\n",
       "15320    Amazing!  \\n\\nA wonderful tasting menu of Chef...\n",
       "Name: text, dtype: object"
      ]
     },
     "execution_count": 6,
     "metadata": {},
     "output_type": "execute_result"
    }
   ],
   "source": [
    "text.text"
   ]
  },
  {
   "cell_type": "markdown",
   "metadata": {},
   "source": [
    "## Basic Preprocessing"
   ]
  },
  {
   "cell_type": "code",
   "execution_count": 7,
   "metadata": {
    "collapsed": false
   },
   "outputs": [],
   "source": [
    "text.text = text.text.apply(lambda x: gensim.utils.simple_preprocess(x))"
   ]
  },
  {
   "cell_type": "code",
   "execution_count": 8,
   "metadata": {
    "collapsed": false
   },
   "outputs": [
    {
     "data": {
      "text/plain": [
       "0        [so, this, place, isn, spectacular, but, it, i...\n",
       "1        [really, like, this, place, the, portions, are...\n",
       "2        [delicious, sushi, very, big, fresh, tasty, fl...\n",
       "3        [pizza, was, just, plain, nothing, special, ha...\n",
       "4        [don, like, the, pizza, hear, and, if, you, go...\n",
       "5        [used, to, hang, out, here, alot, in, my, high...\n",
       "6        [for, the, best, chinese, buffet, dining, in, ...\n",
       "7        [as, far, as, listing, what, good, about, this...\n",
       "8        [drive, through, mexican, food, is, truly, nat...\n",
       "9        [really, wanted, to, like, this, place, given,...\n",
       "10       [brand, new, here, hit, the, ground, running, ...\n",
       "11       [first, of, all, please, forgive, have, been, ...\n",
       "12       [have, the, number, for, this, take, away, pro...\n",
       "13       [nice, place, in, the, heart, of, wesmount, we...\n",
       "14       [hubby, and, had, been, excited, few, weeks, a...\n",
       "15       [god, so, wish, liked, this, place, the, insid...\n",
       "16       [this, is, only, getting, stars, because, it, ...\n",
       "17       [took, gentleman, was, interviewing, and, his,...\n",
       "18       [my, boyfriend, took, me, here, after, told, h...\n",
       "19       [this, is, definitely, one, my, favorite, styl...\n",
       "20       [fantastic, food, great, atmosphere, and, exce...\n",
       "21       [what, great, little, place, right, off, carso...\n",
       "22       [went, in, for, takeout, and, was, surprised, ...\n",
       "23       [worthy, effort, had, the, nachos, which, only...\n",
       "24       [to, my, surprise, that, found, little, gem, i...\n",
       "25       [prices, high, food, great, but, can, afford, ...\n",
       "26       [asian, cuisine, is, the, newest, chinese, res...\n",
       "27       [this, is, nice, little, mexican, place, the, ...\n",
       "28       [was, recently, in, some, training, in, pittsb...\n",
       "29       [wooo, stopped, by, when, friend, said, to, me...\n",
       "                               ...                        \n",
       "15291    [tried, this, restaurant, for, lunch, with, th...\n",
       "15292    [while, recently, travelling, in, montreal, fo...\n",
       "15293    [their, beef, noodle, soup, is, authentic, and...\n",
       "15294    [great, pizza, and, italian, food, from, great...\n",
       "15295    [this, is, charming, family, owned, business, ...\n",
       "15296    [itamae, recently, opened, right, across, from...\n",
       "15297    [visited, itchycoo, this, afternoon, with, the...\n",
       "15298    [after, long, day, at, the, pool, we, were, in...\n",
       "15299    [really, solid, little, bistro, fast, friendly...\n",
       "15300    [the, place, has, good, burgers, but, personal...\n",
       "15301    [atmosphäre, ungemütlich, man, sitzt, zwischen...\n",
       "15302    [being, closet, fan, of, jaimee, rose, azcentr...\n",
       "15303    [chef, david, racicot, is, culinary, phoenix, ...\n",
       "15304    [stopped, in, to, get, steamie, sandwich, park...\n",
       "15305    [das, ambiente, ist, sehr, schön, beim, preis,...\n",
       "15306    [came, with, the, full, family, after, play, a...\n",
       "15307    [kiosk, bistro, im, schwimmbad, das, auch, ohn...\n",
       "15308    [love, this, cafe, this, neighborhood, was, so...\n",
       "15309    [back, to, the, sehr, abgelebtes, hotel, es, i...\n",
       "15310    [few, friends, and, tried, the, new, all, you,...\n",
       "15311    [new, place, that, just, opened, today, anothe...\n",
       "15312    [nicht, wirklich, etwas, besonderes, aber, seh...\n",
       "15313    [after, hearing, all, the, raves, and, rants, ...\n",
       "15314    [seit, zwei, wochen, neu, in, ettlingen, haben...\n",
       "15315    [good, pizza, they, deliver, to, downtown, cut...\n",
       "15316    [an, adorable, little, gem, hidden, on, fleury...\n",
       "15317    [we, were, surprised, at, pm, to, be, told, th...\n",
       "15318    [not, huge, fan, of, the, overall, disorderly,...\n",
       "15319    [best, döner, in, town, ok, in, rheinstetten, ...\n",
       "15320    [amazing, wonderful, tasting, menu, of, chef, ...\n",
       "Name: text, dtype: object"
      ]
     },
     "execution_count": 8,
     "metadata": {},
     "output_type": "execute_result"
    }
   ],
   "source": [
    "text.text"
   ]
  },
  {
   "cell_type": "code",
   "execution_count": 9,
   "metadata": {
    "collapsed": false,
    "scrolled": true
   },
   "outputs": [],
   "source": [
    "# import spacy\n",
    "# import os\n",
    "# data_dir = '/Users/Will/anaconda/envs/py34/lib/python3.4/site-packages/spacy/en/data'\n",
    "# nlp = spacy.en.English(data_dir=data_dir)"
   ]
  },
  {
   "cell_type": "markdown",
   "metadata": {},
   "source": [
    "Now we need to make a gensim dictionary that "
   ]
  },
  {
   "cell_type": "code",
   "execution_count": 12,
   "metadata": {
    "collapsed": true
   },
   "outputs": [],
   "source": [
    "dictionary = gensim.corpora.Dictionary(text.text)"
   ]
  },
  {
   "cell_type": "code",
   "execution_count": 14,
   "metadata": {
    "collapsed": true
   },
   "outputs": [],
   "source": [
    "dictionary.save('../data/words.dict') "
   ]
  },
  {
   "cell_type": "code",
   "execution_count": 16,
   "metadata": {
    "collapsed": false
   },
   "outputs": [
    {
     "name": "stdout",
     "output_type": "stream",
     "text": [
      "Dictionary(242663 unique tokens: ['grubbiest', 'yearning', 'cockers', 'guus', 'rammelvoll']...)\n"
     ]
    }
   ],
   "source": [
    "print(dictionary)"
   ]
  },
  {
   "cell_type": "markdown",
   "metadata": {},
   "source": [
    "Now we get the Corpus into the format we want and save it to disk."
   ]
  },
  {
   "cell_type": "code",
   "execution_count": 25,
   "metadata": {
    "collapsed": true
   },
   "outputs": [],
   "source": [
    "corpus = [dictionary.doc2bow(t) for t in text.text]"
   ]
  },
  {
   "cell_type": "code",
   "execution_count": 27,
   "metadata": {
    "collapsed": false
   },
   "outputs": [],
   "source": [
    "from gensim import corpora\n",
    "corpora.MmCorpus.serialize('../data/deerwester.mm', corpus)"
   ]
  },
  {
   "cell_type": "code",
   "execution_count": null,
   "metadata": {
    "collapsed": false,
    "scrolled": false
   },
   "outputs": [
    {
     "name": "stderr",
     "output_type": "stream",
     "text": [
      "WARNING:gensim.models.ldamulticore:too few updates, training might not converge; consider increasing the number of passes or iterations to improve accuracy\n"
     ]
    }
   ],
   "source": [
    "all_lda = LdaMulticore(corpus=corpus, id2word=dictionary, num_topics=15)"
   ]
  },
  {
   "cell_type": "markdown",
   "metadata": {},
   "source": [
    "# Positive Reviews Only"
   ]
  },
  {
   "cell_type": "code",
   "execution_count": 35,
   "metadata": {
    "collapsed": true
   },
   "outputs": [],
   "source": [
    "good_reviews = combined_data[combined_data.stars.isin(['4,5'])]"
   ]
  },
  {
   "cell_type": "markdown",
   "metadata": {},
   "source": [
    "## Negative Reviews Only"
   ]
  },
  {
   "cell_type": "markdown",
   "metadata": {},
   "source": [
    "# References"
   ]
  },
  {
   "cell_type": "markdown",
   "metadata": {},
   "source": [
    "[Good tutorial](https://radimrehurek.com/gensim/tut1.html#corpus-formats) on how to get Corpora in the right format.  "
   ]
  },
  {
   "cell_type": "markdown",
   "metadata": {},
   "source": [
    "http://nbviewer.ipython.org/gist/langmore/6820351"
   ]
  },
  {
   "cell_type": "code",
   "execution_count": null,
   "metadata": {
    "collapsed": true
   },
   "outputs": [],
   "source": []
  }
 ],
 "metadata": {
  "kernelspec": {
   "display_name": "Python 3",
   "language": "python",
   "name": "python3"
  },
  "language_info": {
   "codemirror_mode": {
    "name": "ipython",
    "version": 3
   },
   "file_extension": ".py",
   "mimetype": "text/x-python",
   "name": "python",
   "nbconvert_exporter": "python",
   "pygments_lexer": "ipython3",
   "version": "3.4.3"
  }
 },
 "nbformat": 4,
 "nbformat_minor": 0
}
