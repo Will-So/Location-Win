{
 "cells": [
  {
   "cell_type": "markdown",
   "metadata": {},
   "source": [
    "# TODO"
   ]
  },
  {
   "cell_type": "markdown",
   "metadata": {},
   "source": [
    "- Remove the food items from the lda as well\n",
    "- Describe more what I do in this "
   ]
  },
  {
   "cell_type": "markdown",
   "metadata": {},
   "source": [
    "# Overview"
   ]
  },
  {
   "cell_type": "markdown",
   "metadata": {},
   "source": [
    "In this notebook, I use LDA to model latent topics. Latent models don't always yield useful results and it is difficult to know whether they will be useful or not until we actually start. \n",
    "\n",
    "Steps:\n",
    "\n",
    "1. Group the Data by restauarant and then squish the review text together. \n",
    "\n",
    "Extensions:\n",
    "\n",
    "1. Consider only positive reviews. (Happy in the same say, upset for all different ways)\n",
    "2. COnsider only negative reviews. "
   ]
  },
  {
   "cell_type": "code",
   "execution_count": 1,
   "metadata": {
    "collapsed": false
   },
   "outputs": [],
   "source": [
    "import pandas as pd\n",
    "from gensim.models.ldamulticore import LdaModel\n",
    "import gensim\n",
    "import nltk"
   ]
  },
  {
   "cell_type": "code",
   "execution_count": 2,
   "metadata": {
    "collapsed": true
   },
   "outputs": [],
   "source": [
    "import logging\n",
    "logging.basicConfig(format='%(asctime)s : %(levelname)s : %(message)s', level=logging.INFO)"
   ]
  },
  {
   "cell_type": "code",
   "execution_count": 3,
   "metadata": {
    "collapsed": false
   },
   "outputs": [],
   "source": [
    "combined_data = pd.read_hdf('../data/restaurant_reviews.hdf')"
   ]
  },
  {
   "cell_type": "code",
   "execution_count": 67,
   "metadata": {
    "collapsed": false,
    "scrolled": false
   },
   "outputs": [
    {
     "data": {
      "text/plain": [
       "Index(['date', 'review_id', 'text', 'user_id', 'city', 'latitude', 'longitude',\n",
       "       'name', 'neighborhoods', 'stars', 'hours'],\n",
       "      dtype='object')"
      ]
     },
     "execution_count": 67,
     "metadata": {},
     "output_type": "execute_result"
    }
   ],
   "source": [
    "combined_data.columns"
   ]
  },
  {
   "cell_type": "code",
   "execution_count": 68,
   "metadata": {
    "collapsed": false
   },
   "outputs": [],
   "source": [
    "g_rest = combined_data.groupby(combined_data.name)"
   ]
  },
  {
   "cell_type": "code",
   "execution_count": 69,
   "metadata": {
    "collapsed": false,
    "scrolled": true
   },
   "outputs": [
    {
     "data": {
      "text/plain": [
       "15321"
      ]
     },
     "execution_count": 69,
     "metadata": {},
     "output_type": "execute_result"
    }
   ],
   "source": [
    "len(g_rest.stars.mean())"
   ]
  },
  {
   "cell_type": "code",
   "execution_count": 70,
   "metadata": {
    "collapsed": true
   },
   "outputs": [],
   "source": [
    "text = g_rest.text.apply(lambda x: '\\n'.join(x)).reset_index()"
   ]
  },
  {
   "cell_type": "code",
   "execution_count": 73,
   "metadata": {
    "collapsed": false,
    "scrolled": true
   },
   "outputs": [
    {
     "data": {
      "text/plain": [
       "0    So this place isn't spectacular, but it is def...\n",
       "1    I really like this place. The portions are lar...\n",
       "2    Delicious Sushi! Very big, fresh, tasty, flavo...\n",
       "3    Pizza was just plain, nothing special. I have ...\n",
       "4    I don't like the pizza hear and if you go for ...\n",
       "Name: text, dtype: object"
      ]
     },
     "execution_count": 73,
     "metadata": {},
     "output_type": "execute_result"
    }
   ],
   "source": [
    "text.text.head()"
   ]
  },
  {
   "cell_type": "markdown",
   "metadata": {},
   "source": [
    "## Basic Preprocessing"
   ]
  },
  {
   "cell_type": "code",
   "execution_count": 75,
   "metadata": {
    "collapsed": false
   },
   "outputs": [],
   "source": [
    "text.text = text.text.apply(lambda x: gensim.utils.simple_preprocess(x))"
   ]
  },
  {
   "cell_type": "code",
   "execution_count": 76,
   "metadata": {
    "collapsed": false,
    "scrolled": true
   },
   "outputs": [
    {
     "data": {
      "text/plain": [
       "0    [so, this, place, isn, spectacular, but, it, i...\n",
       "1    [really, like, this, place, the, portions, are...\n",
       "2    [delicious, sushi, very, big, fresh, tasty, fl...\n",
       "3    [pizza, was, just, plain, nothing, special, ha...\n",
       "4    [don, like, the, pizza, hear, and, if, you, go...\n",
       "Name: text, dtype: object"
      ]
     },
     "execution_count": 76,
     "metadata": {},
     "output_type": "execute_result"
    }
   ],
   "source": [
    "text.text[:5]"
   ]
  },
  {
   "cell_type": "code",
   "execution_count": 9,
   "metadata": {
    "collapsed": false,
    "scrolled": true
   },
   "outputs": [],
   "source": [
    "# import spacy\n",
    "# import os\n",
    "# data_dir = '/Users/Will/anaconda/envs/py34/lib/python3.4/site-packages/spacy/en/data'\n",
    "# nlp = spacy.en.English(data_dir=data_dir)"
   ]
  },
  {
   "cell_type": "markdown",
   "metadata": {},
   "source": [
    "Now we need to make a gensim dictionary that "
   ]
  },
  {
   "cell_type": "code",
   "execution_count": 77,
   "metadata": {
    "collapsed": true
   },
   "outputs": [],
   "source": [
    "dictionary = gensim.corpora.Dictionary(text.text)"
   ]
  },
  {
   "cell_type": "code",
   "execution_count": 78,
   "metadata": {
    "collapsed": false
   },
   "outputs": [
    {
     "name": "stdout",
     "output_type": "stream",
     "text": [
      "Dictionary(242663 unique tokens: ['baghala', 'apes', 'luwan', 'soyons', 'souhaiter']...)\n"
     ]
    }
   ],
   "source": [
    "print(dictionary)"
   ]
  },
  {
   "cell_type": "markdown",
   "metadata": {},
   "source": [
    "Now we get the Corpus into the format we want and save it to disk."
   ]
  },
  {
   "cell_type": "markdown",
   "metadata": {},
   "source": [
    "## Removing Stopwords"
   ]
  },
  {
   "cell_type": "markdown",
   "metadata": {},
   "source": [
    "To start out with, we use the nltk stopwords. If this turns out to cause problems, we will also start excluding the most common words from the current corpus."
   ]
  },
  {
   "cell_type": "code",
   "execution_count": 81,
   "metadata": {
    "collapsed": true
   },
   "outputs": [],
   "source": [
    "import nltk"
   ]
  },
  {
   "cell_type": "code",
   "execution_count": 82,
   "metadata": {
    "collapsed": false,
    "scrolled": true
   },
   "outputs": [],
   "source": [
    "stopwords = set(nltk.corpus.stopwords.words('english'))"
   ]
  },
  {
   "cell_type": "code",
   "execution_count": 83,
   "metadata": {
    "collapsed": true
   },
   "outputs": [],
   "source": [
    "stopwords_ids = list(map(dictionary.token2id.get, stopwords))"
   ]
  },
  {
   "cell_type": "code",
   "execution_count": 84,
   "metadata": {
    "collapsed": false,
    "scrolled": true
   },
   "outputs": [
    {
     "data": {
      "text/plain": [
       "127"
      ]
     },
     "execution_count": 84,
     "metadata": {},
     "output_type": "execute_result"
    }
   ],
   "source": [
    "len(stopwords_ids)"
   ]
  },
  {
   "cell_type": "code",
   "execution_count": 85,
   "metadata": {
    "collapsed": false
   },
   "outputs": [],
   "source": [
    "dictionary.filter_tokens(stopwords_ids)"
   ]
  },
  {
   "cell_type": "code",
   "execution_count": 86,
   "metadata": {
    "collapsed": true
   },
   "outputs": [],
   "source": [
    "?dictionary.filter_extremes()"
   ]
  },
  {
   "cell_type": "code",
   "execution_count": 87,
   "metadata": {
    "collapsed": true
   },
   "outputs": [],
   "source": [
    "dictionary.filter_extremes(no_below=10, no_above=0.1)"
   ]
  },
  {
   "cell_type": "code",
   "execution_count": 88,
   "metadata": {
    "collapsed": false
   },
   "outputs": [
    {
     "data": {
      "text/plain": [
       "41555"
      ]
     },
     "execution_count": 88,
     "metadata": {},
     "output_type": "execute_result"
    }
   ],
   "source": [
    "len(dictionary)"
   ]
  },
  {
   "cell_type": "code",
   "execution_count": 89,
   "metadata": {
    "collapsed": true
   },
   "outputs": [],
   "source": [
    "dictionary.compactify()"
   ]
  },
  {
   "cell_type": "markdown",
   "metadata": {},
   "source": [
    "## Generating the Corpus"
   ]
  },
  {
   "cell_type": "code",
   "execution_count": 90,
   "metadata": {
    "collapsed": false
   },
   "outputs": [],
   "source": [
    "corpus = [dictionary.doc2bow(t) for t in .text]"
   ]
  },
  {
   "cell_type": "markdown",
   "metadata": {},
   "source": [
    "## Saving"
   ]
  },
  {
   "cell_type": "code",
   "execution_count": 92,
   "metadata": {
    "collapsed": false
   },
   "outputs": [],
   "source": [
    "corpora.MmCorpus.serialize('../data/deerwester.mm', corpus)"
   ]
  },
  {
   "cell_type": "code",
   "execution_count": 93,
   "metadata": {
    "collapsed": true
   },
   "outputs": [],
   "source": [
    "dictionary.save('../data/words.dict') "
   ]
  },
  {
   "cell_type": "markdown",
   "metadata": {},
   "source": [
    "# Modelling"
   ]
  },
  {
   "cell_type": "markdown",
   "metadata": {},
   "source": [
    "I should probably remove stopwords at some point"
   ]
  },
  {
   "cell_type": "code",
   "execution_count": 20,
   "metadata": {
    "collapsed": false
   },
   "outputs": [],
   "source": [
    "from gensim.corpora.dictionary import Dictionary\n",
    "from gensim.corpora.mmcorpus import MmCorpus \n",
    "from gensim.models.ldamulticore import LdaMulticore"
   ]
  },
  {
   "cell_type": "code",
   "execution_count": 11,
   "metadata": {
    "collapsed": false,
    "scrolled": true
   },
   "outputs": [],
   "source": [
    "dictionary = Dictionary.load('../data/words.dict')"
   ]
  },
  {
   "cell_type": "code",
   "execution_count": 14,
   "metadata": {
    "collapsed": false
   },
   "outputs": [],
   "source": [
    "corpus = MmCorpus('../data/deerwester.mm')"
   ]
  },
  {
   "cell_type": "markdown",
   "metadata": {},
   "source": [
    "I recommend running this on a power EC2 server. Or else it will take too long. "
   ]
  },
  {
   "cell_type": "code",
   "execution_count": null,
   "metadata": {
    "collapsed": true
   },
   "outputs": [],
   "source": [
    "all_lda = LdaMulticore(corpus=corpus, id2word=dictionary, num_topics=20, workers=31,\n",
    "                       chunksize=50, passes=1)"
   ]
  },
  {
   "cell_type": "code",
   "execution_count": 27,
   "metadata": {
    "collapsed": true
   },
   "outputs": [],
   "source": [
    "all_lda.save('../data/ldamodel')"
   ]
  },
  {
   "cell_type": "code",
   "execution_count": 33,
   "metadata": {
    "collapsed": false
   },
   "outputs": [
    {
     "name": "stdout",
     "output_type": "stream",
     "text": [
      "LdaModel(num_terms=242663, num_topics=20, decay=0.5, chunksize=100)\n"
     ]
    }
   ],
   "source": [
    "print(all_lda)"
   ]
  },
  {
   "cell_type": "code",
   "execution_count": 35,
   "metadata": {
    "collapsed": false,
    "scrolled": false
   },
   "outputs": [
    {
     "data": {
      "text/plain": [
       "['0.050*the + 0.033*and + 0.027*to + 0.019*it + 0.016*of + 0.014*was + 0.014*is + 0.013*for + 0.013*in + 0.011*this',\n",
       " '0.054*the + 0.037*and + 0.023*to + 0.019*pizza + 0.019*it + 0.019*was + 0.016*of + 0.015*is + 0.013*for + 0.012*in',\n",
       " '0.056*the + 0.039*and + 0.023*to + 0.019*was + 0.018*it + 0.017*is + 0.016*of + 0.013*for + 0.011*in + 0.010*food',\n",
       " '0.056*the + 0.032*and + 0.024*to + 0.020*was + 0.019*of + 0.017*it + 0.014*for + 0.013*is + 0.012*in + 0.011*buffet',\n",
       " '0.053*the + 0.036*and + 0.026*to + 0.017*of + 0.016*it + 0.016*was + 0.014*is + 0.012*for + 0.011*in + 0.010*we',\n",
       " '0.055*the + 0.037*and + 0.022*was + 0.022*to + 0.019*it + 0.015*of + 0.013*for + 0.012*we + 0.011*is + 0.010*in',\n",
       " '0.057*the + 0.037*and + 0.022*to + 0.019*it + 0.018*was + 0.017*of + 0.015*is + 0.013*in + 0.011*for + 0.010*pho',\n",
       " '0.056*the + 0.035*and + 0.023*to + 0.018*it + 0.018*was + 0.016*burger + 0.014*of + 0.012*is + 0.012*in + 0.011*for',\n",
       " '0.053*the + 0.035*and + 0.022*to + 0.019*it + 0.019*was + 0.016*is + 0.015*of + 0.012*in + 0.012*for + 0.012*food',\n",
       " '0.056*the + 0.038*and + 0.021*to + 0.018*was + 0.018*it + 0.015*of + 0.015*is + 0.012*in + 0.011*for + 0.010*food']"
      ]
     },
     "execution_count": 35,
     "metadata": {},
     "output_type": "execute_result"
    }
   ],
   "source": [
    "all_lda.print_topics()"
   ]
  },
  {
   "cell_type": "markdown",
   "metadata": {},
   "source": [
    "# Single Core"
   ]
  },
  {
   "cell_type": "code",
   "execution_count": 96,
   "metadata": {
    "collapsed": false
   },
   "outputs": [],
   "source": [
    "lda_single = LdaModel(corpus=corpus, id2word=dictionary, num_topics=20,\n",
    "                     chunksize=300)"
   ]
  },
  {
   "cell_type": "code",
   "execution_count": 97,
   "metadata": {
    "collapsed": false
   },
   "outputs": [
    {
     "data": {
      "text/plain": [
       "['0.050*pad + 0.032*pittsburgh + 0.023*tom + 0.011*truck + 0.009*panang + 0.009*drunken + 0.007*ew + 0.006*satay + 0.006*papaya + 0.005*curries',\n",
       " '0.006*pepperoni + 0.004*subway + 0.004*zpizza + 0.004*philly + 0.003*factory + 0.003*refund + 0.003*pies + 0.002*hut + 0.002*cheesesteak + 0.002*wich',\n",
       " '0.021*brisket + 0.017*spaghetti + 0.012*ravioli + 0.010*lasagna + 0.009*ricotta + 0.009*bruschetta + 0.008*gelato + 0.008*marinara + 0.008*tiramisu + 0.007*pastas',\n",
       " '0.307*pho + 0.068*vietnamese + 0.033*unphogettable + 0.013*mi + 0.011*boba + 0.010*vermicelli + 0.010*sprouts + 0.010*brisket + 0.009*bo + 0.008*plaza',\n",
       " '0.013*charlotte + 0.006*grits + 0.004*cornbread + 0.004*tots + 0.003*vig + 0.003*uptown + 0.003*ahi + 0.003*soul + 0.003*kale + 0.002*lemonade',\n",
       " '0.034*pita + 0.031*hummus + 0.027*gyro + 0.018*falafel + 0.014*edinburgh + 0.013*feta + 0.012*mediterranean + 0.010*gyros + 0.007*kabob + 0.007*eastern',\n",
       " '0.019*pub + 0.013*madison + 0.010*shake + 0.008*pickles + 0.007*pretzel + 0.007*irish + 0.006*craft + 0.006*buns + 0.006*sliders + 0.006*curds',\n",
       " '0.045*asada + 0.043*carne + 0.024*burritos + 0.017*pastor + 0.015*tortillas + 0.015*torta + 0.012*el + 0.010*quesadilla + 0.009*pico + 0.009*viva',\n",
       " '0.017*noca + 0.013*foie + 0.008*truffle + 0.008*gras + 0.006*pairing + 0.005*risotto + 0.004*candy + 0.004*pairings + 0.004*mussels + 0.004*amuse',\n",
       " '0.005*yard + 0.004*wing + 0.004*band + 0.003*dance + 0.003*mill + 0.003*zipps + 0.003*upstairs + 0.002*ticket + 0.002*entertainment + 0.002*smoking']"
      ]
     },
     "execution_count": 97,
     "metadata": {},
     "output_type": "execute_result"
    }
   ],
   "source": [
    "lda_single.print_topics()"
   ]
  },
  {
   "cell_type": "markdown",
   "metadata": {},
   "source": [
    "Saving it"
   ]
  },
  {
   "cell_type": "code",
   "execution_count": 98,
   "metadata": {
    "collapsed": true
   },
   "outputs": [],
   "source": [
    "lda_single.save('../data/all_lda')"
   ]
  },
  {
   "cell_type": "markdown",
   "metadata": {},
   "source": [
    "# Positive Reviews Only"
   ]
  },
  {
   "cell_type": "code",
   "execution_count": 4,
   "metadata": {
    "collapsed": true
   },
   "outputs": [],
   "source": [
    "import nltk\n",
    "def generate_corpus(df, grouper='name', text='text', save=False):\n",
    "    \"\"\"\n",
    "    Generates a dictionary with stopwords and most frequent words removed.\n",
    "    Also tells how many items have been removed. Optionally allows saving the\n",
    "    files to disk.\n",
    "\n",
    "\n",
    "    :param df: pd.DataFrame()\n",
    "    :param grouper: The column that we want to group by. For example, by restaurant.\n",
    "    :param text: The column with the text that we want to model by\n",
    "    :return: corpus, and dict object.\n",
    "\n",
    "    Example\n",
    "    ----\n",
    "    >>> corpus, dictionary = generate_corpus(df, save=True) # doctest: +SKIP\n",
    "    \"\"\"\n",
    "    # Combine the text on a restaurant level\n",
    "    grouped_df = df.groupby(grouper)\n",
    "    all_review_text = grouped_df[text].apply(lambda x: '\\n'.join(x)).reset_index()\n",
    "\n",
    "    # Do some Processing\n",
    "    all_review_text[text] = all_review_text[text].apply(\n",
    "        lambda x: gensim.utils.simple_preprocess(x))\n",
    "\n",
    "    # Generate the dictionary\n",
    "    dictionary = generate_dictionary(all_review_text[text])\n",
    "\n",
    "    # Generate the corpus\n",
    "    corpus = [dictionary.doc2bow(t) for t in all_review_text[text]]\n",
    "\n",
    "    if save:\n",
    "        try:\n",
    "            gensim.corpora.MmCorpus.serialize('../data/corpus', corpus)\n",
    "            dictionary.save('../data/words.dict')\n",
    "        except IOError as e:\n",
    "            logging.warning(\"Could not save to disk. Exception {}\".format(e))\n",
    "\n",
    "    return corpus, dictionary\n",
    "\n",
    "\n",
    "def generate_dictionary(series):\n",
    "    \"\"\"\n",
    "    Generates a gensim dictionary. \n",
    "\n",
    "    :param series:\n",
    "    :return:\n",
    "    \"\"\"\n",
    "    dictionary = gensim.corpora.Dictionary(series)\n",
    "    original_dict_length = len(dictionary)\n",
    "\n",
    "    stopwords = set(nltk.corpus.stopwords.words('english'))\n",
    "    stopwords_ids = list(map(dictionary.token2id.get, stopwords))\n",
    "    dictionary.filter_tokens(stopwords_ids)\n",
    "    dictionary.filter_extremes(no_below=10, no_above=0.1)\n",
    "\n",
    "    dictionary.compactify()\n",
    "    percent_removed = 1 - (len(dictionary) / original_dict_length)\n",
    "    logging.info('Removed {} items from our dictionary. {} %'\n",
    "                 .format(original_dict_length - len(dictionary),\n",
    "                         percent_removed))\n",
    "\n",
    "    return dictionary"
   ]
  },
  {
   "cell_type": "code",
   "execution_count": 5,
   "metadata": {
    "collapsed": true
   },
   "outputs": [],
   "source": [
    "good_reviews = combined_data[combined_data.stars.isin([4,5])]"
   ]
  },
  {
   "cell_type": "code",
   "execution_count": 6,
   "metadata": {
    "collapsed": false,
    "scrolled": true
   },
   "outputs": [],
   "source": [
    "good_corpus, good_dict = generate_corpus(good_reviews)"
   ]
  },
  {
   "cell_type": "code",
   "execution_count": 14,
   "metadata": {
    "collapsed": false,
    "scrolled": true
   },
   "outputs": [],
   "source": [
    "from gensim import corpora\n",
    "corpora.MmCorpus.serialize('../data/good_corpus.mm', good_corpus)\n",
    "good_dict.save('../data/good_dict')"
   ]
  },
  {
   "cell_type": "code",
   "execution_count": 131,
   "metadata": {
    "collapsed": true
   },
   "outputs": [],
   "source": [
    "good_lda = LdaModel(corpus=good_corpus, id2word=good_dict, num_topics=20,\n",
    "                     chunksize=300)"
   ]
  },
  {
   "cell_type": "code",
   "execution_count": 125,
   "metadata": {
    "collapsed": false,
    "scrolled": true
   },
   "outputs": [
    {
     "data": {
      "text/plain": [
       "33514"
      ]
     },
     "execution_count": 125,
     "metadata": {},
     "output_type": "execute_result"
    }
   ],
   "source": [
    "len(good_dict)"
   ]
  },
  {
   "cell_type": "code",
   "execution_count": 134,
   "metadata": {
    "collapsed": false
   },
   "outputs": [
    {
     "data": {
      "text/plain": [
       "['0.033*pub + 0.026*deli + 0.016*pastrami + 0.015*bagel + 0.012*irish + 0.011*pretzel + 0.011*craft + 0.010*bagels + 0.010*subway + 0.009*ale',\n",
       " '0.063*pancakes + 0.037*waffle + 0.031*waffles + 0.031*benedict + 0.030*hash + 0.022*omelet + 0.017*pancake + 0.016*biscuits + 0.015*omelette + 0.014*syrup',\n",
       " '0.042*japanese + 0.031*sashimi + 0.023*ramen + 0.023*ayce + 0.022*tempura + 0.021*miso + 0.018*sake + 0.016*nigiri + 0.015*teriyaki + 0.013*yellowtail',\n",
       " '0.026*asada + 0.025*carne + 0.025*guacamole + 0.021*margaritas + 0.017*margarita + 0.015*chile + 0.015*tortillas + 0.014*enchiladas + 0.014*chipotle + 0.013*burritos',\n",
       " '0.135*pho + 0.067*indian + 0.044*vietnamese + 0.022*naan + 0.014*mi + 0.014*masala + 0.009*banh + 0.009*tikka + 0.008*yasu + 0.008*paneer',\n",
       " '0.037*le + 0.036*et + 0.033*montreal + 0.027*est + 0.019*les + 0.015*en + 0.014*une + 0.014*que + 0.014*des + 0.013*pas',\n",
       " '0.048*und + 0.031*der + 0.028*das + 0.027*ist + 0.022*sehr + 0.021*es + 0.019*ich + 0.018*auch + 0.017*airport + 0.015*zu',\n",
       " '0.119*brisket + 0.045*yama + 0.045*texas + 0.043*ayce + 0.030*slaw + 0.028*smoke + 0.026*barbecue + 0.021*coleslaw + 0.018*pig + 0.017*cole',\n",
       " '0.008*foie + 0.007*risotto + 0.007*gras + 0.006*courses + 0.006*truffle + 0.006*mussels + 0.005*goat + 0.004*marrow + 0.004*noca + 0.004*bass',\n",
       " '0.017*filet + 0.011*steaks + 0.009*truffle + 0.008*oz + 0.008*steakhouse + 0.007*ahi + 0.007*ribeye + 0.007*bisque + 0.007*mignon + 0.006*asparagus']"
      ]
     },
     "execution_count": 134,
     "metadata": {},
     "output_type": "execute_result"
    }
   ],
   "source": [
    "good_lda.print_topics()"
   ]
  },
  {
   "cell_type": "code",
   "execution_count": 136,
   "metadata": {
    "collapsed": true
   },
   "outputs": [],
   "source": [
    "good_lda.save('../data/good_lda')"
   ]
  },
  {
   "cell_type": "markdown",
   "metadata": {},
   "source": [
    "## Negative Reviews Only"
   ]
  },
  {
   "cell_type": "code",
   "execution_count": 16,
   "metadata": {
    "collapsed": true
   },
   "outputs": [],
   "source": [
    "bad_reviews = combined_data[combined_data.stars.isin([1,2])]"
   ]
  },
  {
   "cell_type": "code",
   "execution_count": 17,
   "metadata": {
    "collapsed": false
   },
   "outputs": [],
   "source": [
    "bad_corpus, bad_dict = generate_corpus(bad_reviews)"
   ]
  },
  {
   "cell_type": "code",
   "execution_count": 132,
   "metadata": {
    "collapsed": true
   },
   "outputs": [],
   "source": [
    "bad_lda = LdaModel(corpus=bad_corpus, id2word=bad_dict, num_topics=20,\n",
    "                   chunksize=300)"
   ]
  },
  {
   "cell_type": "code",
   "execution_count": 133,
   "metadata": {
    "collapsed": false,
    "scrolled": true
   },
   "outputs": [
    {
     "data": {
      "text/plain": [
       "['0.005*airport + 0.004*pittsburgh + 0.003*flight + 0.003*fox + 0.002*presentation + 0.002*bay + 0.002*tuna + 0.002*wolfgang + 0.002*overrated + 0.002*puck',\n",
       " '0.023*chocolate + 0.022*dog + 0.015*toast + 0.015*cafe + 0.013*brunch + 0.013*waffle + 0.013*turkey + 0.011*dogs + 0.008*shop + 0.008*smoothie',\n",
       " '0.200*sushi + 0.023*tuna + 0.020*japanese + 0.016*sashimi + 0.016*tempura + 0.015*ayce + 0.012*teriyaki + 0.012*nigiri + 0.011*miso + 0.008*chefs',\n",
       " '0.017*burgers + 0.011*beers + 0.007*sports + 0.005*pub + 0.005*bun + 0.005*bartenders + 0.005*rings + 0.004*sliders + 0.004*tv + 0.004*nachos',\n",
       " '0.058*thai + 0.021*curry + 0.018*pad + 0.010*spaghetti + 0.009*basil + 0.009*tom + 0.008*olive + 0.008*meatballs + 0.006*garden + 0.006*lasagna',\n",
       " '0.041*lobster + 0.013*scallops + 0.011*filet + 0.010*lamb + 0.009*oysters + 0.009*risotto + 0.009*duck + 0.008*chocolate + 0.008*steaks + 0.007*calamari',\n",
       " '0.063*ramen + 0.056*korean + 0.031*tapas + 0.017*broth + 0.014*boba + 0.013*tofu + 0.010*belly + 0.009*shabu + 0.008*kimchi + 0.007*truck',\n",
       " '0.005*thru + 0.004*window + 0.004*cashier + 0.003*wendy + 0.003*subway + 0.003*register + 0.003*workers + 0.003*receipt + 0.002*locations + 0.002*machine',\n",
       " '0.081*tacos + 0.037*burrito + 0.018*guacamole + 0.018*tortilla + 0.016*carne + 0.016*asada + 0.015*margarita + 0.013*tortillas + 0.012*bell + 0.011*margaritas',\n",
       " '0.024*ribs + 0.020*mac + 0.012*brisket + 0.007*meats + 0.007*smoked + 0.007*smoke + 0.006*slaw + 0.006*rib + 0.006*texas + 0.006*mashed']"
      ]
     },
     "execution_count": 133,
     "metadata": {},
     "output_type": "execute_result"
    }
   ],
   "source": [
    "bad_lda.print_topics()"
   ]
  },
  {
   "cell_type": "code",
   "execution_count": 18,
   "metadata": {
    "collapsed": true
   },
   "outputs": [],
   "source": [
    "corpora.MmCorpus.serialize('../data/bad_corpus.mm', bad_corpus)\n",
    "bad_dict.save('../data/bad_dict')"
   ]
  },
  {
   "cell_type": "code",
   "execution_count": 135,
   "metadata": {
    "collapsed": true
   },
   "outputs": [],
   "source": [
    "bad_lda.save('../data/bad_lda')"
   ]
  },
  {
   "cell_type": "code",
   "execution_count": 19,
   "metadata": {
    "collapsed": false
   },
   "outputs": [
    {
     "data": {
      "text/html": [
       "<div>\n",
       "<table border=\"1\" class=\"dataframe\">\n",
       "  <thead>\n",
       "    <tr style=\"text-align: right;\">\n",
       "      <th></th>\n",
       "      <th>date</th>\n",
       "      <th>review_id</th>\n",
       "      <th>text</th>\n",
       "      <th>user_id</th>\n",
       "      <th>city</th>\n",
       "      <th>latitude</th>\n",
       "      <th>longitude</th>\n",
       "      <th>name</th>\n",
       "      <th>neighborhoods</th>\n",
       "      <th>stars</th>\n",
       "      <th>hours</th>\n",
       "    </tr>\n",
       "  </thead>\n",
       "  <tbody>\n",
       "    <tr>\n",
       "      <th>0</th>\n",
       "      <td>2012-12-01</td>\n",
       "      <td>6w6gMZ3iBLGcUM4RBIuifQ</td>\n",
       "      <td>This place was DELICIOUS!!  My parents saw a r...</td>\n",
       "      <td>LWbYpcangjBMm4KPxZGOKg</td>\n",
       "      <td>Braddock</td>\n",
       "      <td>40.408735</td>\n",
       "      <td>-79.866351</td>\n",
       "      <td>Emil's Lounge</td>\n",
       "      <td>[]</td>\n",
       "      <td>5</td>\n",
       "      <td>{'Tuesday': {'close': '19:00', 'open': '10:00'...</td>\n",
       "    </tr>\n",
       "    <tr>\n",
       "      <th>1</th>\n",
       "      <td>2013-03-15</td>\n",
       "      <td>jVVv_DA5mCDB6mediuwHAw</td>\n",
       "      <td>Can't miss stop for the best Fish Sandwich in ...</td>\n",
       "      <td>m1FpV3EAeggaAdfPx0hBRQ</td>\n",
       "      <td>Braddock</td>\n",
       "      <td>40.408735</td>\n",
       "      <td>-79.866351</td>\n",
       "      <td>Emil's Lounge</td>\n",
       "      <td>[]</td>\n",
       "      <td>5</td>\n",
       "      <td>{'Tuesday': {'close': '19:00', 'open': '10:00'...</td>\n",
       "    </tr>\n",
       "    <tr>\n",
       "      <th>2</th>\n",
       "      <td>2013-03-30</td>\n",
       "      <td>3Es8GsjkssusYgeU6_ZVpQ</td>\n",
       "      <td>This place should have a lot more reviews - bu...</td>\n",
       "      <td>8fApIAMHn2MZJFUiCQto5Q</td>\n",
       "      <td>Braddock</td>\n",
       "      <td>40.408735</td>\n",
       "      <td>-79.866351</td>\n",
       "      <td>Emil's Lounge</td>\n",
       "      <td>[]</td>\n",
       "      <td>5</td>\n",
       "      <td>{'Tuesday': {'close': '19:00', 'open': '10:00'...</td>\n",
       "    </tr>\n",
       "    <tr>\n",
       "      <th>3</th>\n",
       "      <td>2013-10-20</td>\n",
       "      <td>KAkcn7oQP1xX8KsZ-XmktA</td>\n",
       "      <td>This place was very good. I found out about Em...</td>\n",
       "      <td>uK8tzraOp4M5u3uYrqIBXg</td>\n",
       "      <td>Braddock</td>\n",
       "      <td>40.408735</td>\n",
       "      <td>-79.866351</td>\n",
       "      <td>Emil's Lounge</td>\n",
       "      <td>[]</td>\n",
       "      <td>4</td>\n",
       "      <td>{'Tuesday': {'close': '19:00', 'open': '10:00'...</td>\n",
       "    </tr>\n",
       "    <tr>\n",
       "      <th>4</th>\n",
       "      <td>2013-11-07</td>\n",
       "      <td>BZNJkkP0bXnwQ2-sCqat2Q</td>\n",
       "      <td>Old school.....traditional \"mom 'n pop\" qualit...</td>\n",
       "      <td>6wvlM5L4_EroGXbnb_92xQ</td>\n",
       "      <td>Braddock</td>\n",
       "      <td>40.408735</td>\n",
       "      <td>-79.866351</td>\n",
       "      <td>Emil's Lounge</td>\n",
       "      <td>[]</td>\n",
       "      <td>5</td>\n",
       "      <td>{'Tuesday': {'close': '19:00', 'open': '10:00'...</td>\n",
       "    </tr>\n",
       "    <tr>\n",
       "      <th>5</th>\n",
       "      <td>2014-03-22</td>\n",
       "      <td>VDTIbR3G5_IPkpXbo2MutA</td>\n",
       "      <td>Seen this restaurant on 25 best places in Pitt...</td>\n",
       "      <td>345nDw0oC-jOcglqxmzweQ</td>\n",
       "      <td>Braddock</td>\n",
       "      <td>40.408735</td>\n",
       "      <td>-79.866351</td>\n",
       "      <td>Emil's Lounge</td>\n",
       "      <td>[]</td>\n",
       "      <td>5</td>\n",
       "      <td>{'Tuesday': {'close': '19:00', 'open': '10:00'...</td>\n",
       "    </tr>\n",
       "    <tr>\n",
       "      <th>6</th>\n",
       "      <td>2014-09-29</td>\n",
       "      <td>5uyYmniYyIB_wtKtyXDudQ</td>\n",
       "      <td>Wonderful reuben.  Map shown on Yelp page is i...</td>\n",
       "      <td>u9ULAsnYTdYH65Haj5LMSw</td>\n",
       "      <td>Braddock</td>\n",
       "      <td>40.408735</td>\n",
       "      <td>-79.866351</td>\n",
       "      <td>Emil's Lounge</td>\n",
       "      <td>[]</td>\n",
       "      <td>4</td>\n",
       "      <td>{'Tuesday': {'close': '19:00', 'open': '10:00'...</td>\n",
       "    </tr>\n",
       "    <tr>\n",
       "      <th>7</th>\n",
       "      <td>2014-09-29</td>\n",
       "      <td>zyn_Libz9VZTZ--OdC4-tQ</td>\n",
       "      <td>Good fish sandwich.</td>\n",
       "      <td>pdHC0oAcG7gNdhuFRAUu0Q</td>\n",
       "      <td>Braddock</td>\n",
       "      <td>40.408735</td>\n",
       "      <td>-79.866351</td>\n",
       "      <td>Emil's Lounge</td>\n",
       "      <td>[]</td>\n",
       "      <td>5</td>\n",
       "      <td>{'Tuesday': {'close': '19:00', 'open': '10:00'...</td>\n",
       "    </tr>\n",
       "    <tr>\n",
       "      <th>8</th>\n",
       "      <td>2014-11-03</td>\n",
       "      <td>uf61rPucuICXhSPXlZ1hIQ</td>\n",
       "      <td>After a morning of Thrift Store hunting, a fri...</td>\n",
       "      <td>tAKjY3bQXH51msJbOHYPmQ</td>\n",
       "      <td>Braddock</td>\n",
       "      <td>40.408735</td>\n",
       "      <td>-79.866351</td>\n",
       "      <td>Emil's Lounge</td>\n",
       "      <td>[]</td>\n",
       "      <td>5</td>\n",
       "      <td>{'Tuesday': {'close': '19:00', 'open': '10:00'...</td>\n",
       "    </tr>\n",
       "    <tr>\n",
       "      <th>9</th>\n",
       "      <td>2014-12-18</td>\n",
       "      <td>xY2gjy49dnpQSB2RTZzqCw</td>\n",
       "      <td>This is a hidden gem, no really. It took us fo...</td>\n",
       "      <td>Kq8-FUG7d_MT2qRNiNBJnA</td>\n",
       "      <td>Braddock</td>\n",
       "      <td>40.408735</td>\n",
       "      <td>-79.866351</td>\n",
       "      <td>Emil's Lounge</td>\n",
       "      <td>[]</td>\n",
       "      <td>4</td>\n",
       "      <td>{'Tuesday': {'close': '19:00', 'open': '10:00'...</td>\n",
       "    </tr>\n",
       "    <tr>\n",
       "      <th>10</th>\n",
       "      <td>2010-10-11</td>\n",
       "      <td>v_uEDbK5fP1UJpkXNPwXpQ</td>\n",
       "      <td>This would be my local haunt, if I were ever t...</td>\n",
       "      <td>ay9H1RpjbBkaiXGxfh7LaA</td>\n",
       "      <td>Carnegie</td>\n",
       "      <td>40.415517</td>\n",
       "      <td>-80.067534</td>\n",
       "      <td>Alexion's Bar &amp; Grill</td>\n",
       "      <td>[Greentree]</td>\n",
       "      <td>4</td>\n",
       "      <td>{}</td>\n",
       "    </tr>\n",
       "    <tr>\n",
       "      <th>11</th>\n",
       "      <td>2011-02-27</td>\n",
       "      <td>j8GuxQJ_DQsSfrJNkmcACA</td>\n",
       "      <td>A great townie bar with tasty food and an inte...</td>\n",
       "      <td>JbWnXwjLaO1kncUkQOMajg</td>\n",
       "      <td>Carnegie</td>\n",
       "      <td>40.415517</td>\n",
       "      <td>-80.067534</td>\n",
       "      <td>Alexion's Bar &amp; Grill</td>\n",
       "      <td>[Greentree]</td>\n",
       "      <td>4</td>\n",
       "      <td>{}</td>\n",
       "    </tr>\n",
       "    <tr>\n",
       "      <th>12</th>\n",
       "      <td>2011-08-15</td>\n",
       "      <td>2xCds3bp0wM6nHMz3H65vg</td>\n",
       "      <td>Alexion's has been around forever.  The first ...</td>\n",
       "      <td>4-3IU5uUH90m21TWbZhhnA</td>\n",
       "      <td>Carnegie</td>\n",
       "      <td>40.415517</td>\n",
       "      <td>-80.067534</td>\n",
       "      <td>Alexion's Bar &amp; Grill</td>\n",
       "      <td>[Greentree]</td>\n",
       "      <td>4</td>\n",
       "      <td>{}</td>\n",
       "    </tr>\n",
       "    <tr>\n",
       "      <th>13</th>\n",
       "      <td>2011-12-22</td>\n",
       "      <td>UrukGX1emhSRe2fGdxdVPA</td>\n",
       "      <td>Good for cheap drinks and wings, they offer da...</td>\n",
       "      <td>bcwr1bFov3PSa1FiGfpc9g</td>\n",
       "      <td>Carnegie</td>\n",
       "      <td>40.415517</td>\n",
       "      <td>-80.067534</td>\n",
       "      <td>Alexion's Bar &amp; Grill</td>\n",
       "      <td>[Greentree]</td>\n",
       "      <td>3</td>\n",
       "      <td>{}</td>\n",
       "    </tr>\n",
       "    <tr>\n",
       "      <th>14</th>\n",
       "      <td>2013-04-25</td>\n",
       "      <td>2_Ru_ASf75kU303rdQjFfQ</td>\n",
       "      <td>What a cool bar/restaurant.. I will no doubt b...</td>\n",
       "      <td>Sjb5e5-gKoLXueFDMc2R8Q</td>\n",
       "      <td>Carnegie</td>\n",
       "      <td>40.415517</td>\n",
       "      <td>-80.067534</td>\n",
       "      <td>Alexion's Bar &amp; Grill</td>\n",
       "      <td>[Greentree]</td>\n",
       "      <td>4</td>\n",
       "      <td>{}</td>\n",
       "    </tr>\n",
       "    <tr>\n",
       "      <th>15</th>\n",
       "      <td>2013-04-29</td>\n",
       "      <td>OZ_2Ss5H2bNxnYEcEZC0fA</td>\n",
       "      <td>Awesome drink specials during happy hour. Fant...</td>\n",
       "      <td>tnArVArlj5usJLZbq9ydbQ</td>\n",
       "      <td>Carnegie</td>\n",
       "      <td>40.415517</td>\n",
       "      <td>-80.067534</td>\n",
       "      <td>Alexion's Bar &amp; Grill</td>\n",
       "      <td>[Greentree]</td>\n",
       "      <td>5</td>\n",
       "      <td>{}</td>\n",
       "    </tr>\n",
       "    <tr>\n",
       "      <th>16</th>\n",
       "      <td>2013-09-17</td>\n",
       "      <td>PUY1KIrW0BY9ENb3bfv2iQ</td>\n",
       "      <td>Good beer selection. Understaffed for a light ...</td>\n",
       "      <td>W_NfPGdpM0286WBDNSvY5g</td>\n",
       "      <td>Carnegie</td>\n",
       "      <td>40.415517</td>\n",
       "      <td>-80.067534</td>\n",
       "      <td>Alexion's Bar &amp; Grill</td>\n",
       "      <td>[Greentree]</td>\n",
       "      <td>3</td>\n",
       "      <td>{}</td>\n",
       "    </tr>\n",
       "    <tr>\n",
       "      <th>17</th>\n",
       "      <td>2014-02-16</td>\n",
       "      <td>0klMyorClST8NYGJqArzPQ</td>\n",
       "      <td>Grew up near here. the family would always go ...</td>\n",
       "      <td>h-A_xNeB_xSbc0psqHyoJg</td>\n",
       "      <td>Carnegie</td>\n",
       "      <td>40.415517</td>\n",
       "      <td>-80.067534</td>\n",
       "      <td>Alexion's Bar &amp; Grill</td>\n",
       "      <td>[Greentree]</td>\n",
       "      <td>5</td>\n",
       "      <td>{}</td>\n",
       "    </tr>\n",
       "    <tr>\n",
       "      <th>18</th>\n",
       "      <td>2014-03-13</td>\n",
       "      <td>UVx5-SD8RyZu3NPRU5GwZg</td>\n",
       "      <td>Very disappointed in the customer service. We ...</td>\n",
       "      <td>GcBAIs4pzeK6OzHpawgZlg</td>\n",
       "      <td>Carnegie</td>\n",
       "      <td>40.415517</td>\n",
       "      <td>-80.067534</td>\n",
       "      <td>Alexion's Bar &amp; Grill</td>\n",
       "      <td>[Greentree]</td>\n",
       "      <td>2</td>\n",
       "      <td>{}</td>\n",
       "    </tr>\n",
       "    <tr>\n",
       "      <th>19</th>\n",
       "      <td>2014-06-27</td>\n",
       "      <td>alwn7y-xR9ZN-q4_e-n9OA</td>\n",
       "      <td>Let there be no question: Alexions owns the be...</td>\n",
       "      <td>tkYwzVUMztdjNuqsNhAP5A</td>\n",
       "      <td>Carnegie</td>\n",
       "      <td>40.415517</td>\n",
       "      <td>-80.067534</td>\n",
       "      <td>Alexion's Bar &amp; Grill</td>\n",
       "      <td>[Greentree]</td>\n",
       "      <td>5</td>\n",
       "      <td>{}</td>\n",
       "    </tr>\n",
       "    <tr>\n",
       "      <th>20</th>\n",
       "      <td>2014-07-21</td>\n",
       "      <td>ElQikklZunCiyaOKR4hEaw</td>\n",
       "      <td>The sandwiches, the wings, enough said. Alexio...</td>\n",
       "      <td>qswY4Psj6SdtwJABNx0eng</td>\n",
       "      <td>Carnegie</td>\n",
       "      <td>40.415517</td>\n",
       "      <td>-80.067534</td>\n",
       "      <td>Alexion's Bar &amp; Grill</td>\n",
       "      <td>[Greentree]</td>\n",
       "      <td>5</td>\n",
       "      <td>{}</td>\n",
       "    </tr>\n",
       "    <tr>\n",
       "      <th>21</th>\n",
       "      <td>2014-08-08</td>\n",
       "      <td>1yRSd1j8gamtcUN9lSZ3Uw</td>\n",
       "      <td>We met a couple of friends there on a Friday a...</td>\n",
       "      <td>udy8pMNA09YDs98e51wXZQ</td>\n",
       "      <td>Carnegie</td>\n",
       "      <td>40.415517</td>\n",
       "      <td>-80.067534</td>\n",
       "      <td>Alexion's Bar &amp; Grill</td>\n",
       "      <td>[Greentree]</td>\n",
       "      <td>3</td>\n",
       "      <td>{}</td>\n",
       "    </tr>\n",
       "    <tr>\n",
       "      <th>22</th>\n",
       "      <td>2009-12-10</td>\n",
       "      <td>XW_RwDoN9StbDt0Y1pc3VA</td>\n",
       "      <td>I have never seen a restaurant that has a frow...</td>\n",
       "      <td>T_wjLgPOPXry7Bea4MzoVQ</td>\n",
       "      <td>Carnegie</td>\n",
       "      <td>40.387732</td>\n",
       "      <td>-80.092874</td>\n",
       "      <td>Kings Family Restaurant</td>\n",
       "      <td>[]</td>\n",
       "      <td>3</td>\n",
       "      <td>{'Saturday': {'close': '02:00', 'open': '08:00...</td>\n",
       "    </tr>\n",
       "    <tr>\n",
       "      <th>23</th>\n",
       "      <td>2010-01-03</td>\n",
       "      <td>LOqF4d657XomJGRKpFKlhg</td>\n",
       "      <td>So... back in the late 90s, there used to be t...</td>\n",
       "      <td>LaPatM6c289ClpysmzZpdQ</td>\n",
       "      <td>Carnegie</td>\n",
       "      <td>40.387732</td>\n",
       "      <td>-80.092874</td>\n",
       "      <td>Kings Family Restaurant</td>\n",
       "      <td>[]</td>\n",
       "      <td>3</td>\n",
       "      <td>{'Saturday': {'close': '02:00', 'open': '08:00...</td>\n",
       "    </tr>\n",
       "    <tr>\n",
       "      <th>24</th>\n",
       "      <td>2010-11-06</td>\n",
       "      <td>e2YxtsZJE3w6DdNP8yMs7w</td>\n",
       "      <td>Ive pretty much been eating at various Kings' ...</td>\n",
       "      <td>vGI3dbg5zFRXBg4eVVmGSg</td>\n",
       "      <td>Carnegie</td>\n",
       "      <td>40.387732</td>\n",
       "      <td>-80.092874</td>\n",
       "      <td>Kings Family Restaurant</td>\n",
       "      <td>[]</td>\n",
       "      <td>4</td>\n",
       "      <td>{'Saturday': {'close': '02:00', 'open': '08:00...</td>\n",
       "    </tr>\n",
       "    <tr>\n",
       "      <th>25</th>\n",
       "      <td>2011-11-21</td>\n",
       "      <td>RRddfCx_goh5UnEIwx9HMA</td>\n",
       "      <td>Hoofah.</td>\n",
       "      <td>9MmWbiE7txW_OplDAnoaqA</td>\n",
       "      <td>Carnegie</td>\n",
       "      <td>40.387732</td>\n",
       "      <td>-80.092874</td>\n",
       "      <td>Kings Family Restaurant</td>\n",
       "      <td>[]</td>\n",
       "      <td>2</td>\n",
       "      <td>{'Saturday': {'close': '02:00', 'open': '08:00...</td>\n",
       "    </tr>\n",
       "    <tr>\n",
       "      <th>26</th>\n",
       "      <td>2012-05-30</td>\n",
       "      <td>bgLHVU09FpJ-uEOFFor6uA</td>\n",
       "      <td>I heart King's. I've always been a fan and thi...</td>\n",
       "      <td>q7MrNVt1FE23rwtWmPYWHg</td>\n",
       "      <td>Carnegie</td>\n",
       "      <td>40.387732</td>\n",
       "      <td>-80.092874</td>\n",
       "      <td>Kings Family Restaurant</td>\n",
       "      <td>[]</td>\n",
       "      <td>4</td>\n",
       "      <td>{'Saturday': {'close': '02:00', 'open': '08:00...</td>\n",
       "    </tr>\n",
       "    <tr>\n",
       "      <th>27</th>\n",
       "      <td>2014-09-18</td>\n",
       "      <td>pLkbUd2H5ducEeJPi1BPGw</td>\n",
       "      <td>I arrived around 10 am on a Saturday morning. ...</td>\n",
       "      <td>7KoVg5QMjYu8taLFSE7hNA</td>\n",
       "      <td>Carnegie</td>\n",
       "      <td>40.387732</td>\n",
       "      <td>-80.092874</td>\n",
       "      <td>Kings Family Restaurant</td>\n",
       "      <td>[]</td>\n",
       "      <td>4</td>\n",
       "      <td>{'Saturday': {'close': '02:00', 'open': '08:00...</td>\n",
       "    </tr>\n",
       "    <tr>\n",
       "      <th>28</th>\n",
       "      <td>2015-01-01</td>\n",
       "      <td>yJFDmUvxlPRdzG7GPSAXKw</td>\n",
       "      <td>thisis not the closest Kings to us, but we oft...</td>\n",
       "      <td>G4PZXgVGd-6zG9jJBQNl5A</td>\n",
       "      <td>Carnegie</td>\n",
       "      <td>40.387732</td>\n",
       "      <td>-80.092874</td>\n",
       "      <td>Kings Family Restaurant</td>\n",
       "      <td>[]</td>\n",
       "      <td>5</td>\n",
       "      <td>{'Saturday': {'close': '02:00', 'open': '08:00...</td>\n",
       "    </tr>\n",
       "    <tr>\n",
       "      <th>29</th>\n",
       "      <td>2013-09-01</td>\n",
       "      <td>MsoASFxCmOOkOBOqZ80ngQ</td>\n",
       "      <td>Two meals, on the recommendation of a friend w...</td>\n",
       "      <td>tAKjY3bQXH51msJbOHYPmQ</td>\n",
       "      <td>Carnegie</td>\n",
       "      <td>40.396469</td>\n",
       "      <td>-80.084942</td>\n",
       "      <td>Rocky's Lounge</td>\n",
       "      <td>[]</td>\n",
       "      <td>2</td>\n",
       "      <td>{}</td>\n",
       "    </tr>\n",
       "    <tr>\n",
       "      <th>...</th>\n",
       "      <td>...</td>\n",
       "      <td>...</td>\n",
       "      <td>...</td>\n",
       "      <td>...</td>\n",
       "      <td>...</td>\n",
       "      <td>...</td>\n",
       "      <td>...</td>\n",
       "      <td>...</td>\n",
       "      <td>...</td>\n",
       "      <td>...</td>\n",
       "      <td>...</td>\n",
       "    </tr>\n",
       "    <tr>\n",
       "      <th>990597</th>\n",
       "      <td>2015-01-02</td>\n",
       "      <td>tNPLSbgupsPRD0yN-a5flA</td>\n",
       "      <td>This is only based on 2 things. The Fries &amp; Wi...</td>\n",
       "      <td>lPB-R1QMVjJ0cpl4SkD-lA</td>\n",
       "      <td>Las Vegas</td>\n",
       "      <td>36.057182</td>\n",
       "      <td>-115.278528</td>\n",
       "      <td>Checkers Rally's</td>\n",
       "      <td>[Southwest, Spring Valley]</td>\n",
       "      <td>5</td>\n",
       "      <td>{'Saturday': {'close': '00:00', 'open': '00:00...</td>\n",
       "    </tr>\n",
       "    <tr>\n",
       "      <th>990598</th>\n",
       "      <td>2015-01-03</td>\n",
       "      <td>2aqSWQc0H97SqkFfHSKkbA</td>\n",
       "      <td>Came here after seeing this new burger place o...</td>\n",
       "      <td>AMVAiivpYgbHm5JDuNuzqQ</td>\n",
       "      <td>Las Vegas</td>\n",
       "      <td>36.057182</td>\n",
       "      <td>-115.278528</td>\n",
       "      <td>Checkers Rally's</td>\n",
       "      <td>[Southwest, Spring Valley]</td>\n",
       "      <td>3</td>\n",
       "      <td>{'Saturday': {'close': '00:00', 'open': '00:00...</td>\n",
       "    </tr>\n",
       "    <tr>\n",
       "      <th>990599</th>\n",
       "      <td>2015-01-04</td>\n",
       "      <td>9rZlXpwFPT-j1kZ-pBDSbg</td>\n",
       "      <td>I had high hopes for this place. When I learne...</td>\n",
       "      <td>JcHqp10KqAKwL_edMji-Hg</td>\n",
       "      <td>Las Vegas</td>\n",
       "      <td>36.057182</td>\n",
       "      <td>-115.278528</td>\n",
       "      <td>Checkers Rally's</td>\n",
       "      <td>[Southwest, Spring Valley]</td>\n",
       "      <td>1</td>\n",
       "      <td>{'Saturday': {'close': '00:00', 'open': '00:00...</td>\n",
       "    </tr>\n",
       "    <tr>\n",
       "      <th>990600</th>\n",
       "      <td>2015-01-08</td>\n",
       "      <td>cgD-bZZMumgAt8pr0c2loA</td>\n",
       "      <td>Went to checkers on a friends recommendation t...</td>\n",
       "      <td>Zx4u4wmj2HpKIk6bqKoE1w</td>\n",
       "      <td>Las Vegas</td>\n",
       "      <td>36.057182</td>\n",
       "      <td>-115.278528</td>\n",
       "      <td>Checkers Rally's</td>\n",
       "      <td>[Southwest, Spring Valley]</td>\n",
       "      <td>1</td>\n",
       "      <td>{'Saturday': {'close': '00:00', 'open': '00:00...</td>\n",
       "    </tr>\n",
       "    <tr>\n",
       "      <th>990601</th>\n",
       "      <td>2014-12-26</td>\n",
       "      <td>Klm1WKTIvHUsKdSv08uskA</td>\n",
       "      <td>The food at this place is amazing. My favorite...</td>\n",
       "      <td>59YVOprpX7DDrgWAsM7nZw</td>\n",
       "      <td>Henderson</td>\n",
       "      <td>36.005901</td>\n",
       "      <td>-115.111863</td>\n",
       "      <td>Shawarma Plus</td>\n",
       "      <td>[Anthem]</td>\n",
       "      <td>5</td>\n",
       "      <td>{'Saturday': {'close': '19:00', 'open': '11:00...</td>\n",
       "    </tr>\n",
       "    <tr>\n",
       "      <th>990602</th>\n",
       "      <td>2015-01-03</td>\n",
       "      <td>Iwh0APEZnsmfg8SFYbYQSQ</td>\n",
       "      <td>Love this place! The portions are generous but...</td>\n",
       "      <td>kytZaSCi465hTOwZREHmJQ</td>\n",
       "      <td>Henderson</td>\n",
       "      <td>36.005901</td>\n",
       "      <td>-115.111863</td>\n",
       "      <td>Shawarma Plus</td>\n",
       "      <td>[Anthem]</td>\n",
       "      <td>5</td>\n",
       "      <td>{'Saturday': {'close': '19:00', 'open': '11:00...</td>\n",
       "    </tr>\n",
       "    <tr>\n",
       "      <th>990603</th>\n",
       "      <td>2015-01-03</td>\n",
       "      <td>u8kMgdUTW9HqNrAVpTE5Tg</td>\n",
       "      <td>This is easily one of my favorite places to ea...</td>\n",
       "      <td>PuNI1mUmqUsYdOb0IRalvw</td>\n",
       "      <td>Henderson</td>\n",
       "      <td>36.005901</td>\n",
       "      <td>-115.111863</td>\n",
       "      <td>Shawarma Plus</td>\n",
       "      <td>[Anthem]</td>\n",
       "      <td>5</td>\n",
       "      <td>{'Saturday': {'close': '19:00', 'open': '11:00...</td>\n",
       "    </tr>\n",
       "    <tr>\n",
       "      <th>990604</th>\n",
       "      <td>2015-01-05</td>\n",
       "      <td>6fcMOlThEAl4Fm28y-gMyg</td>\n",
       "      <td>Finally - a place in Henderson to get great ch...</td>\n",
       "      <td>O5J58IeJpIVxAh-CNtHV_A</td>\n",
       "      <td>Henderson</td>\n",
       "      <td>36.005901</td>\n",
       "      <td>-115.111863</td>\n",
       "      <td>Shawarma Plus</td>\n",
       "      <td>[Anthem]</td>\n",
       "      <td>5</td>\n",
       "      <td>{'Saturday': {'close': '19:00', 'open': '11:00...</td>\n",
       "    </tr>\n",
       "    <tr>\n",
       "      <th>990605</th>\n",
       "      <td>2014-12-28</td>\n",
       "      <td>QkrQJ48fDLnrcywhsevdCQ</td>\n",
       "      <td>Hmmm...not quite sure what to make of this pla...</td>\n",
       "      <td>Kqvfep2mxS10S50FbVDi4Q</td>\n",
       "      <td>Scottsdale</td>\n",
       "      <td>33.501281</td>\n",
       "      <td>-111.923295</td>\n",
       "      <td>Dakota</td>\n",
       "      <td>[]</td>\n",
       "      <td>3</td>\n",
       "      <td>{}</td>\n",
       "    </tr>\n",
       "    <tr>\n",
       "      <th>990606</th>\n",
       "      <td>2014-12-28</td>\n",
       "      <td>fj0lBMsQaIKXuA2cLE0A3A</td>\n",
       "      <td>Very cool new spot in the Old Town Scottsdale ...</td>\n",
       "      <td>Yz7i36gFLsuFSPSCqBBp8g</td>\n",
       "      <td>Scottsdale</td>\n",
       "      <td>33.501281</td>\n",
       "      <td>-111.923295</td>\n",
       "      <td>Dakota</td>\n",
       "      <td>[]</td>\n",
       "      <td>5</td>\n",
       "      <td>{}</td>\n",
       "    </tr>\n",
       "    <tr>\n",
       "      <th>990607</th>\n",
       "      <td>2014-12-29</td>\n",
       "      <td>dnJH2bAvbYczWv_FZfgCgw</td>\n",
       "      <td>WOW!!!  First off, the place is gorgeous.  Hat...</td>\n",
       "      <td>rQgtzhjHZJO6AFZQcXWIOA</td>\n",
       "      <td>Scottsdale</td>\n",
       "      <td>33.501281</td>\n",
       "      <td>-111.923295</td>\n",
       "      <td>Dakota</td>\n",
       "      <td>[]</td>\n",
       "      <td>5</td>\n",
       "      <td>{}</td>\n",
       "    </tr>\n",
       "    <tr>\n",
       "      <th>990608</th>\n",
       "      <td>2014-12-30</td>\n",
       "      <td>VOKBW9WKks2elDlHD_BMUQ</td>\n",
       "      <td>This place is by far the new hot spot in Scott...</td>\n",
       "      <td>gzas-xwzhJdMSri7LNjsnQ</td>\n",
       "      <td>Scottsdale</td>\n",
       "      <td>33.501281</td>\n",
       "      <td>-111.923295</td>\n",
       "      <td>Dakota</td>\n",
       "      <td>[]</td>\n",
       "      <td>5</td>\n",
       "      <td>{}</td>\n",
       "    </tr>\n",
       "    <tr>\n",
       "      <th>990609</th>\n",
       "      <td>2015-01-02</td>\n",
       "      <td>I-ls6UsNw07ZOPYWyAMWGA</td>\n",
       "      <td>My wife and I live in the area and are pleasan...</td>\n",
       "      <td>wb7P7e3q11TZLxd9QjEmxA</td>\n",
       "      <td>Scottsdale</td>\n",
       "      <td>33.501281</td>\n",
       "      <td>-111.923295</td>\n",
       "      <td>Dakota</td>\n",
       "      <td>[]</td>\n",
       "      <td>5</td>\n",
       "      <td>{}</td>\n",
       "    </tr>\n",
       "    <tr>\n",
       "      <th>990610</th>\n",
       "      <td>2015-01-03</td>\n",
       "      <td>pUE2bgPmL0fJ5g8f_f5BNw</td>\n",
       "      <td>Went for dinner with friends tonight. The plac...</td>\n",
       "      <td>9s7LZ0tBcHLy5qw002Hrig</td>\n",
       "      <td>Scottsdale</td>\n",
       "      <td>33.501281</td>\n",
       "      <td>-111.923295</td>\n",
       "      <td>Dakota</td>\n",
       "      <td>[]</td>\n",
       "      <td>1</td>\n",
       "      <td>{}</td>\n",
       "    </tr>\n",
       "    <tr>\n",
       "      <th>990611</th>\n",
       "      <td>2015-01-04</td>\n",
       "      <td>8okcIUQDYFSGfWBTbwicCg</td>\n",
       "      <td>Great ambiance, absolutely love the decor, ver...</td>\n",
       "      <td>VWsswC_PyASIXdxZ76qzDQ</td>\n",
       "      <td>Scottsdale</td>\n",
       "      <td>33.501281</td>\n",
       "      <td>-111.923295</td>\n",
       "      <td>Dakota</td>\n",
       "      <td>[]</td>\n",
       "      <td>5</td>\n",
       "      <td>{}</td>\n",
       "    </tr>\n",
       "    <tr>\n",
       "      <th>990612</th>\n",
       "      <td>2015-01-04</td>\n",
       "      <td>TMhN6wpALlAbPjPiGWm7rA</td>\n",
       "      <td>I visited Dakota on a Saturday night and had g...</td>\n",
       "      <td>tYZx5cXF69edwIAdtf-PYA</td>\n",
       "      <td>Scottsdale</td>\n",
       "      <td>33.501281</td>\n",
       "      <td>-111.923295</td>\n",
       "      <td>Dakota</td>\n",
       "      <td>[]</td>\n",
       "      <td>4</td>\n",
       "      <td>{}</td>\n",
       "    </tr>\n",
       "    <tr>\n",
       "      <th>990613</th>\n",
       "      <td>2014-12-27</td>\n",
       "      <td>b7MbOMtrN2mI_AqybYWMGQ</td>\n",
       "      <td>Revamped buffet at Excalibur!  I really really...</td>\n",
       "      <td>kIeNCDLD4M3e0HCQX7OMZw</td>\n",
       "      <td>Las Vegas</td>\n",
       "      <td>36.098909</td>\n",
       "      <td>-115.175557</td>\n",
       "      <td>The Buffet at Excalibur</td>\n",
       "      <td>[The Strip]</td>\n",
       "      <td>4</td>\n",
       "      <td>{'Saturday': {'close': '22:00', 'open': '07:00...</td>\n",
       "    </tr>\n",
       "    <tr>\n",
       "      <th>990614</th>\n",
       "      <td>2015-01-01</td>\n",
       "      <td>eqhwSI7weVLsNvcRiVdIdA</td>\n",
       "      <td>My family and I decided to go here for our las...</td>\n",
       "      <td>8Tnwnfv-MgRrNABf1syU8Q</td>\n",
       "      <td>Las Vegas</td>\n",
       "      <td>36.098909</td>\n",
       "      <td>-115.175557</td>\n",
       "      <td>The Buffet at Excalibur</td>\n",
       "      <td>[The Strip]</td>\n",
       "      <td>3</td>\n",
       "      <td>{'Saturday': {'close': '22:00', 'open': '07:00...</td>\n",
       "    </tr>\n",
       "    <tr>\n",
       "      <th>990615</th>\n",
       "      <td>2015-01-03</td>\n",
       "      <td>RJZKxhuYslj0QuOBKA29jg</td>\n",
       "      <td>Buffet was recently open after renovation so m...</td>\n",
       "      <td>8B4Wu6xIERB1We1T7temsw</td>\n",
       "      <td>Las Vegas</td>\n",
       "      <td>36.098909</td>\n",
       "      <td>-115.175557</td>\n",
       "      <td>The Buffet at Excalibur</td>\n",
       "      <td>[The Strip]</td>\n",
       "      <td>1</td>\n",
       "      <td>{'Saturday': {'close': '22:00', 'open': '07:00...</td>\n",
       "    </tr>\n",
       "    <tr>\n",
       "      <th>990616</th>\n",
       "      <td>2015-01-06</td>\n",
       "      <td>-x2dsfigyiSoPjshKCXN9Q</td>\n",
       "      <td>Honestly i expected much much more out of a la...</td>\n",
       "      <td>6UTmJbyTpkNKh-rp5VNy7w</td>\n",
       "      <td>Las Vegas</td>\n",
       "      <td>36.098909</td>\n",
       "      <td>-115.175557</td>\n",
       "      <td>The Buffet at Excalibur</td>\n",
       "      <td>[The Strip]</td>\n",
       "      <td>3</td>\n",
       "      <td>{'Saturday': {'close': '22:00', 'open': '07:00...</td>\n",
       "    </tr>\n",
       "    <tr>\n",
       "      <th>990617</th>\n",
       "      <td>2015-01-04</td>\n",
       "      <td>Au2TvJq9na93OK6dA1aM2w</td>\n",
       "      <td>Scottsdale Beer Company has only been open 2 d...</td>\n",
       "      <td>gaHDNUzyPDzGIi5QVoXnXA</td>\n",
       "      <td>Scottsdale</td>\n",
       "      <td>33.582361</td>\n",
       "      <td>-111.892861</td>\n",
       "      <td>Scottsdale Beer Company</td>\n",
       "      <td>[]</td>\n",
       "      <td>5</td>\n",
       "      <td>{}</td>\n",
       "    </tr>\n",
       "    <tr>\n",
       "      <th>990618</th>\n",
       "      <td>2015-01-05</td>\n",
       "      <td>Kads-jUo1wwrsr_3V5jTBQ</td>\n",
       "      <td>Just found my new favorite hang out. This plac...</td>\n",
       "      <td>Uq6YoSvd6ly0uSjo2sjlRg</td>\n",
       "      <td>Scottsdale</td>\n",
       "      <td>33.582361</td>\n",
       "      <td>-111.892861</td>\n",
       "      <td>Scottsdale Beer Company</td>\n",
       "      <td>[]</td>\n",
       "      <td>5</td>\n",
       "      <td>{}</td>\n",
       "    </tr>\n",
       "    <tr>\n",
       "      <th>990619</th>\n",
       "      <td>2015-01-05</td>\n",
       "      <td>WLs2AWr2Yv-niCLkSp0Wtw</td>\n",
       "      <td>Official opening is about a month away. Howeve...</td>\n",
       "      <td>6BTaLX07i_BMxIedUCawTQ</td>\n",
       "      <td>Scottsdale</td>\n",
       "      <td>33.582361</td>\n",
       "      <td>-111.892861</td>\n",
       "      <td>Scottsdale Beer Company</td>\n",
       "      <td>[]</td>\n",
       "      <td>5</td>\n",
       "      <td>{}</td>\n",
       "    </tr>\n",
       "    <tr>\n",
       "      <th>990620</th>\n",
       "      <td>2015-01-06</td>\n",
       "      <td>w4Hz1SBXpADxcNmNnp05Rw</td>\n",
       "      <td>Came in after shopping at neighbor Pier 1 Impo...</td>\n",
       "      <td>0bNXP9quoJEgyVZu9ipGgQ</td>\n",
       "      <td>Scottsdale</td>\n",
       "      <td>33.582361</td>\n",
       "      <td>-111.892861</td>\n",
       "      <td>Scottsdale Beer Company</td>\n",
       "      <td>[]</td>\n",
       "      <td>3</td>\n",
       "      <td>{}</td>\n",
       "    </tr>\n",
       "    <tr>\n",
       "      <th>990621</th>\n",
       "      <td>2015-01-07</td>\n",
       "      <td>1eo5KMA0lFTyKZ5WUgwIsA</td>\n",
       "      <td>This new Brew Pub has just opened in our neigh...</td>\n",
       "      <td>EXfijPBugg0XiP5fM8WOKg</td>\n",
       "      <td>Scottsdale</td>\n",
       "      <td>33.582361</td>\n",
       "      <td>-111.892861</td>\n",
       "      <td>Scottsdale Beer Company</td>\n",
       "      <td>[]</td>\n",
       "      <td>5</td>\n",
       "      <td>{}</td>\n",
       "    </tr>\n",
       "    <tr>\n",
       "      <th>990622</th>\n",
       "      <td>2015-01-07</td>\n",
       "      <td>wI_ok8C5ijJ6QL2-4cK_dg</td>\n",
       "      <td>A very welcome addition to Central Scottsdale,...</td>\n",
       "      <td>2dfT7XTxtYZVz4qa97IoVQ</td>\n",
       "      <td>Scottsdale</td>\n",
       "      <td>33.582361</td>\n",
       "      <td>-111.892861</td>\n",
       "      <td>Scottsdale Beer Company</td>\n",
       "      <td>[]</td>\n",
       "      <td>5</td>\n",
       "      <td>{}</td>\n",
       "    </tr>\n",
       "    <tr>\n",
       "      <th>990623</th>\n",
       "      <td>2015-01-07</td>\n",
       "      <td>9JkgDafp9z2nO9P6hdstOA</td>\n",
       "      <td>My first thoughts when I walked in were \"wow t...</td>\n",
       "      <td>Kqvfep2mxS10S50FbVDi4Q</td>\n",
       "      <td>Scottsdale</td>\n",
       "      <td>33.582361</td>\n",
       "      <td>-111.892861</td>\n",
       "      <td>Scottsdale Beer Company</td>\n",
       "      <td>[]</td>\n",
       "      <td>3</td>\n",
       "      <td>{}</td>\n",
       "    </tr>\n",
       "    <tr>\n",
       "      <th>990624</th>\n",
       "      <td>2015-01-04</td>\n",
       "      <td>7oCr4iHPIOnE0Fvmt8pJPw</td>\n",
       "      <td>This is your restaurant for Cuban, Puerto Rica...</td>\n",
       "      <td>88GBYU_DPTcCFD6AB7x76g</td>\n",
       "      <td>Las Vegas</td>\n",
       "      <td>36.207485</td>\n",
       "      <td>-115.268203</td>\n",
       "      <td>Latin Fish</td>\n",
       "      <td>[Summerlin]</td>\n",
       "      <td>5</td>\n",
       "      <td>{'Saturday': {'close': '23:00', 'open': '09:30...</td>\n",
       "    </tr>\n",
       "    <tr>\n",
       "      <th>990625</th>\n",
       "      <td>2015-01-06</td>\n",
       "      <td>mDpXzkLX-uOSYI6T6fuB3A</td>\n",
       "      <td>Best hidden secret in Vegas..... Great selecti...</td>\n",
       "      <td>iJUXEDsyGaiBCUB7UiDNQw</td>\n",
       "      <td>Las Vegas</td>\n",
       "      <td>36.207485</td>\n",
       "      <td>-115.268203</td>\n",
       "      <td>Latin Fish</td>\n",
       "      <td>[Summerlin]</td>\n",
       "      <td>5</td>\n",
       "      <td>{'Saturday': {'close': '23:00', 'open': '09:30...</td>\n",
       "    </tr>\n",
       "    <tr>\n",
       "      <th>990626</th>\n",
       "      <td>2015-01-08</td>\n",
       "      <td>an4_IeSL23tflhwiNZrcpw</td>\n",
       "      <td>Really disappointing. Either the place was hav...</td>\n",
       "      <td>99J2_TFB68H9y9jKjA_hzA</td>\n",
       "      <td>Las Vegas</td>\n",
       "      <td>36.207485</td>\n",
       "      <td>-115.268203</td>\n",
       "      <td>Latin Fish</td>\n",
       "      <td>[Summerlin]</td>\n",
       "      <td>1</td>\n",
       "      <td>{'Saturday': {'close': '23:00', 'open': '09:30...</td>\n",
       "    </tr>\n",
       "  </tbody>\n",
       "</table>\n",
       "<p>990627 rows × 11 columns</p>\n",
       "</div>"
      ],
      "text/plain": [
       "             date               review_id  \\\n",
       "0      2012-12-01  6w6gMZ3iBLGcUM4RBIuifQ   \n",
       "1      2013-03-15  jVVv_DA5mCDB6mediuwHAw   \n",
       "2      2013-03-30  3Es8GsjkssusYgeU6_ZVpQ   \n",
       "3      2013-10-20  KAkcn7oQP1xX8KsZ-XmktA   \n",
       "4      2013-11-07  BZNJkkP0bXnwQ2-sCqat2Q   \n",
       "5      2014-03-22  VDTIbR3G5_IPkpXbo2MutA   \n",
       "6      2014-09-29  5uyYmniYyIB_wtKtyXDudQ   \n",
       "7      2014-09-29  zyn_Libz9VZTZ--OdC4-tQ   \n",
       "8      2014-11-03  uf61rPucuICXhSPXlZ1hIQ   \n",
       "9      2014-12-18  xY2gjy49dnpQSB2RTZzqCw   \n",
       "10     2010-10-11  v_uEDbK5fP1UJpkXNPwXpQ   \n",
       "11     2011-02-27  j8GuxQJ_DQsSfrJNkmcACA   \n",
       "12     2011-08-15  2xCds3bp0wM6nHMz3H65vg   \n",
       "13     2011-12-22  UrukGX1emhSRe2fGdxdVPA   \n",
       "14     2013-04-25  2_Ru_ASf75kU303rdQjFfQ   \n",
       "15     2013-04-29  OZ_2Ss5H2bNxnYEcEZC0fA   \n",
       "16     2013-09-17  PUY1KIrW0BY9ENb3bfv2iQ   \n",
       "17     2014-02-16  0klMyorClST8NYGJqArzPQ   \n",
       "18     2014-03-13  UVx5-SD8RyZu3NPRU5GwZg   \n",
       "19     2014-06-27  alwn7y-xR9ZN-q4_e-n9OA   \n",
       "20     2014-07-21  ElQikklZunCiyaOKR4hEaw   \n",
       "21     2014-08-08  1yRSd1j8gamtcUN9lSZ3Uw   \n",
       "22     2009-12-10  XW_RwDoN9StbDt0Y1pc3VA   \n",
       "23     2010-01-03  LOqF4d657XomJGRKpFKlhg   \n",
       "24     2010-11-06  e2YxtsZJE3w6DdNP8yMs7w   \n",
       "25     2011-11-21  RRddfCx_goh5UnEIwx9HMA   \n",
       "26     2012-05-30  bgLHVU09FpJ-uEOFFor6uA   \n",
       "27     2014-09-18  pLkbUd2H5ducEeJPi1BPGw   \n",
       "28     2015-01-01  yJFDmUvxlPRdzG7GPSAXKw   \n",
       "29     2013-09-01  MsoASFxCmOOkOBOqZ80ngQ   \n",
       "...           ...                     ...   \n",
       "990597 2015-01-02  tNPLSbgupsPRD0yN-a5flA   \n",
       "990598 2015-01-03  2aqSWQc0H97SqkFfHSKkbA   \n",
       "990599 2015-01-04  9rZlXpwFPT-j1kZ-pBDSbg   \n",
       "990600 2015-01-08  cgD-bZZMumgAt8pr0c2loA   \n",
       "990601 2014-12-26  Klm1WKTIvHUsKdSv08uskA   \n",
       "990602 2015-01-03  Iwh0APEZnsmfg8SFYbYQSQ   \n",
       "990603 2015-01-03  u8kMgdUTW9HqNrAVpTE5Tg   \n",
       "990604 2015-01-05  6fcMOlThEAl4Fm28y-gMyg   \n",
       "990605 2014-12-28  QkrQJ48fDLnrcywhsevdCQ   \n",
       "990606 2014-12-28  fj0lBMsQaIKXuA2cLE0A3A   \n",
       "990607 2014-12-29  dnJH2bAvbYczWv_FZfgCgw   \n",
       "990608 2014-12-30  VOKBW9WKks2elDlHD_BMUQ   \n",
       "990609 2015-01-02  I-ls6UsNw07ZOPYWyAMWGA   \n",
       "990610 2015-01-03  pUE2bgPmL0fJ5g8f_f5BNw   \n",
       "990611 2015-01-04  8okcIUQDYFSGfWBTbwicCg   \n",
       "990612 2015-01-04  TMhN6wpALlAbPjPiGWm7rA   \n",
       "990613 2014-12-27  b7MbOMtrN2mI_AqybYWMGQ   \n",
       "990614 2015-01-01  eqhwSI7weVLsNvcRiVdIdA   \n",
       "990615 2015-01-03  RJZKxhuYslj0QuOBKA29jg   \n",
       "990616 2015-01-06  -x2dsfigyiSoPjshKCXN9Q   \n",
       "990617 2015-01-04  Au2TvJq9na93OK6dA1aM2w   \n",
       "990618 2015-01-05  Kads-jUo1wwrsr_3V5jTBQ   \n",
       "990619 2015-01-05  WLs2AWr2Yv-niCLkSp0Wtw   \n",
       "990620 2015-01-06  w4Hz1SBXpADxcNmNnp05Rw   \n",
       "990621 2015-01-07  1eo5KMA0lFTyKZ5WUgwIsA   \n",
       "990622 2015-01-07  wI_ok8C5ijJ6QL2-4cK_dg   \n",
       "990623 2015-01-07  9JkgDafp9z2nO9P6hdstOA   \n",
       "990624 2015-01-04  7oCr4iHPIOnE0Fvmt8pJPw   \n",
       "990625 2015-01-06  mDpXzkLX-uOSYI6T6fuB3A   \n",
       "990626 2015-01-08  an4_IeSL23tflhwiNZrcpw   \n",
       "\n",
       "                                                     text  \\\n",
       "0       This place was DELICIOUS!!  My parents saw a r...   \n",
       "1       Can't miss stop for the best Fish Sandwich in ...   \n",
       "2       This place should have a lot more reviews - bu...   \n",
       "3       This place was very good. I found out about Em...   \n",
       "4       Old school.....traditional \"mom 'n pop\" qualit...   \n",
       "5       Seen this restaurant on 25 best places in Pitt...   \n",
       "6       Wonderful reuben.  Map shown on Yelp page is i...   \n",
       "7                                     Good fish sandwich.   \n",
       "8       After a morning of Thrift Store hunting, a fri...   \n",
       "9       This is a hidden gem, no really. It took us fo...   \n",
       "10      This would be my local haunt, if I were ever t...   \n",
       "11      A great townie bar with tasty food and an inte...   \n",
       "12      Alexion's has been around forever.  The first ...   \n",
       "13      Good for cheap drinks and wings, they offer da...   \n",
       "14      What a cool bar/restaurant.. I will no doubt b...   \n",
       "15      Awesome drink specials during happy hour. Fant...   \n",
       "16      Good beer selection. Understaffed for a light ...   \n",
       "17      Grew up near here. the family would always go ...   \n",
       "18      Very disappointed in the customer service. We ...   \n",
       "19      Let there be no question: Alexions owns the be...   \n",
       "20      The sandwiches, the wings, enough said. Alexio...   \n",
       "21      We met a couple of friends there on a Friday a...   \n",
       "22      I have never seen a restaurant that has a frow...   \n",
       "23      So... back in the late 90s, there used to be t...   \n",
       "24      Ive pretty much been eating at various Kings' ...   \n",
       "25                                                Hoofah.   \n",
       "26      I heart King's. I've always been a fan and thi...   \n",
       "27      I arrived around 10 am on a Saturday morning. ...   \n",
       "28      thisis not the closest Kings to us, but we oft...   \n",
       "29      Two meals, on the recommendation of a friend w...   \n",
       "...                                                   ...   \n",
       "990597  This is only based on 2 things. The Fries & Wi...   \n",
       "990598  Came here after seeing this new burger place o...   \n",
       "990599  I had high hopes for this place. When I learne...   \n",
       "990600  Went to checkers on a friends recommendation t...   \n",
       "990601  The food at this place is amazing. My favorite...   \n",
       "990602  Love this place! The portions are generous but...   \n",
       "990603  This is easily one of my favorite places to ea...   \n",
       "990604  Finally - a place in Henderson to get great ch...   \n",
       "990605  Hmmm...not quite sure what to make of this pla...   \n",
       "990606  Very cool new spot in the Old Town Scottsdale ...   \n",
       "990607  WOW!!!  First off, the place is gorgeous.  Hat...   \n",
       "990608  This place is by far the new hot spot in Scott...   \n",
       "990609  My wife and I live in the area and are pleasan...   \n",
       "990610  Went for dinner with friends tonight. The plac...   \n",
       "990611  Great ambiance, absolutely love the decor, ver...   \n",
       "990612  I visited Dakota on a Saturday night and had g...   \n",
       "990613  Revamped buffet at Excalibur!  I really really...   \n",
       "990614  My family and I decided to go here for our las...   \n",
       "990615  Buffet was recently open after renovation so m...   \n",
       "990616  Honestly i expected much much more out of a la...   \n",
       "990617  Scottsdale Beer Company has only been open 2 d...   \n",
       "990618  Just found my new favorite hang out. This plac...   \n",
       "990619  Official opening is about a month away. Howeve...   \n",
       "990620  Came in after shopping at neighbor Pier 1 Impo...   \n",
       "990621  This new Brew Pub has just opened in our neigh...   \n",
       "990622  A very welcome addition to Central Scottsdale,...   \n",
       "990623  My first thoughts when I walked in were \"wow t...   \n",
       "990624  This is your restaurant for Cuban, Puerto Rica...   \n",
       "990625  Best hidden secret in Vegas..... Great selecti...   \n",
       "990626  Really disappointing. Either the place was hav...   \n",
       "\n",
       "                       user_id        city   latitude   longitude  \\\n",
       "0       LWbYpcangjBMm4KPxZGOKg    Braddock  40.408735  -79.866351   \n",
       "1       m1FpV3EAeggaAdfPx0hBRQ    Braddock  40.408735  -79.866351   \n",
       "2       8fApIAMHn2MZJFUiCQto5Q    Braddock  40.408735  -79.866351   \n",
       "3       uK8tzraOp4M5u3uYrqIBXg    Braddock  40.408735  -79.866351   \n",
       "4       6wvlM5L4_EroGXbnb_92xQ    Braddock  40.408735  -79.866351   \n",
       "5       345nDw0oC-jOcglqxmzweQ    Braddock  40.408735  -79.866351   \n",
       "6       u9ULAsnYTdYH65Haj5LMSw    Braddock  40.408735  -79.866351   \n",
       "7       pdHC0oAcG7gNdhuFRAUu0Q    Braddock  40.408735  -79.866351   \n",
       "8       tAKjY3bQXH51msJbOHYPmQ    Braddock  40.408735  -79.866351   \n",
       "9       Kq8-FUG7d_MT2qRNiNBJnA    Braddock  40.408735  -79.866351   \n",
       "10      ay9H1RpjbBkaiXGxfh7LaA    Carnegie  40.415517  -80.067534   \n",
       "11      JbWnXwjLaO1kncUkQOMajg    Carnegie  40.415517  -80.067534   \n",
       "12      4-3IU5uUH90m21TWbZhhnA    Carnegie  40.415517  -80.067534   \n",
       "13      bcwr1bFov3PSa1FiGfpc9g    Carnegie  40.415517  -80.067534   \n",
       "14      Sjb5e5-gKoLXueFDMc2R8Q    Carnegie  40.415517  -80.067534   \n",
       "15      tnArVArlj5usJLZbq9ydbQ    Carnegie  40.415517  -80.067534   \n",
       "16      W_NfPGdpM0286WBDNSvY5g    Carnegie  40.415517  -80.067534   \n",
       "17      h-A_xNeB_xSbc0psqHyoJg    Carnegie  40.415517  -80.067534   \n",
       "18      GcBAIs4pzeK6OzHpawgZlg    Carnegie  40.415517  -80.067534   \n",
       "19      tkYwzVUMztdjNuqsNhAP5A    Carnegie  40.415517  -80.067534   \n",
       "20      qswY4Psj6SdtwJABNx0eng    Carnegie  40.415517  -80.067534   \n",
       "21      udy8pMNA09YDs98e51wXZQ    Carnegie  40.415517  -80.067534   \n",
       "22      T_wjLgPOPXry7Bea4MzoVQ    Carnegie  40.387732  -80.092874   \n",
       "23      LaPatM6c289ClpysmzZpdQ    Carnegie  40.387732  -80.092874   \n",
       "24      vGI3dbg5zFRXBg4eVVmGSg    Carnegie  40.387732  -80.092874   \n",
       "25      9MmWbiE7txW_OplDAnoaqA    Carnegie  40.387732  -80.092874   \n",
       "26      q7MrNVt1FE23rwtWmPYWHg    Carnegie  40.387732  -80.092874   \n",
       "27      7KoVg5QMjYu8taLFSE7hNA    Carnegie  40.387732  -80.092874   \n",
       "28      G4PZXgVGd-6zG9jJBQNl5A    Carnegie  40.387732  -80.092874   \n",
       "29      tAKjY3bQXH51msJbOHYPmQ    Carnegie  40.396469  -80.084942   \n",
       "...                        ...         ...        ...         ...   \n",
       "990597  lPB-R1QMVjJ0cpl4SkD-lA   Las Vegas  36.057182 -115.278528   \n",
       "990598  AMVAiivpYgbHm5JDuNuzqQ   Las Vegas  36.057182 -115.278528   \n",
       "990599  JcHqp10KqAKwL_edMji-Hg   Las Vegas  36.057182 -115.278528   \n",
       "990600  Zx4u4wmj2HpKIk6bqKoE1w   Las Vegas  36.057182 -115.278528   \n",
       "990601  59YVOprpX7DDrgWAsM7nZw   Henderson  36.005901 -115.111863   \n",
       "990602  kytZaSCi465hTOwZREHmJQ   Henderson  36.005901 -115.111863   \n",
       "990603  PuNI1mUmqUsYdOb0IRalvw   Henderson  36.005901 -115.111863   \n",
       "990604  O5J58IeJpIVxAh-CNtHV_A   Henderson  36.005901 -115.111863   \n",
       "990605  Kqvfep2mxS10S50FbVDi4Q  Scottsdale  33.501281 -111.923295   \n",
       "990606  Yz7i36gFLsuFSPSCqBBp8g  Scottsdale  33.501281 -111.923295   \n",
       "990607  rQgtzhjHZJO6AFZQcXWIOA  Scottsdale  33.501281 -111.923295   \n",
       "990608  gzas-xwzhJdMSri7LNjsnQ  Scottsdale  33.501281 -111.923295   \n",
       "990609  wb7P7e3q11TZLxd9QjEmxA  Scottsdale  33.501281 -111.923295   \n",
       "990610  9s7LZ0tBcHLy5qw002Hrig  Scottsdale  33.501281 -111.923295   \n",
       "990611  VWsswC_PyASIXdxZ76qzDQ  Scottsdale  33.501281 -111.923295   \n",
       "990612  tYZx5cXF69edwIAdtf-PYA  Scottsdale  33.501281 -111.923295   \n",
       "990613  kIeNCDLD4M3e0HCQX7OMZw   Las Vegas  36.098909 -115.175557   \n",
       "990614  8Tnwnfv-MgRrNABf1syU8Q   Las Vegas  36.098909 -115.175557   \n",
       "990615  8B4Wu6xIERB1We1T7temsw   Las Vegas  36.098909 -115.175557   \n",
       "990616  6UTmJbyTpkNKh-rp5VNy7w   Las Vegas  36.098909 -115.175557   \n",
       "990617  gaHDNUzyPDzGIi5QVoXnXA  Scottsdale  33.582361 -111.892861   \n",
       "990618  Uq6YoSvd6ly0uSjo2sjlRg  Scottsdale  33.582361 -111.892861   \n",
       "990619  6BTaLX07i_BMxIedUCawTQ  Scottsdale  33.582361 -111.892861   \n",
       "990620  0bNXP9quoJEgyVZu9ipGgQ  Scottsdale  33.582361 -111.892861   \n",
       "990621  EXfijPBugg0XiP5fM8WOKg  Scottsdale  33.582361 -111.892861   \n",
       "990622  2dfT7XTxtYZVz4qa97IoVQ  Scottsdale  33.582361 -111.892861   \n",
       "990623  Kqvfep2mxS10S50FbVDi4Q  Scottsdale  33.582361 -111.892861   \n",
       "990624  88GBYU_DPTcCFD6AB7x76g   Las Vegas  36.207485 -115.268203   \n",
       "990625  iJUXEDsyGaiBCUB7UiDNQw   Las Vegas  36.207485 -115.268203   \n",
       "990626  99J2_TFB68H9y9jKjA_hzA   Las Vegas  36.207485 -115.268203   \n",
       "\n",
       "                           name               neighborhoods  stars  \\\n",
       "0                 Emil's Lounge                          []      5   \n",
       "1                 Emil's Lounge                          []      5   \n",
       "2                 Emil's Lounge                          []      5   \n",
       "3                 Emil's Lounge                          []      4   \n",
       "4                 Emil's Lounge                          []      5   \n",
       "5                 Emil's Lounge                          []      5   \n",
       "6                 Emil's Lounge                          []      4   \n",
       "7                 Emil's Lounge                          []      5   \n",
       "8                 Emil's Lounge                          []      5   \n",
       "9                 Emil's Lounge                          []      4   \n",
       "10        Alexion's Bar & Grill                 [Greentree]      4   \n",
       "11        Alexion's Bar & Grill                 [Greentree]      4   \n",
       "12        Alexion's Bar & Grill                 [Greentree]      4   \n",
       "13        Alexion's Bar & Grill                 [Greentree]      3   \n",
       "14        Alexion's Bar & Grill                 [Greentree]      4   \n",
       "15        Alexion's Bar & Grill                 [Greentree]      5   \n",
       "16        Alexion's Bar & Grill                 [Greentree]      3   \n",
       "17        Alexion's Bar & Grill                 [Greentree]      5   \n",
       "18        Alexion's Bar & Grill                 [Greentree]      2   \n",
       "19        Alexion's Bar & Grill                 [Greentree]      5   \n",
       "20        Alexion's Bar & Grill                 [Greentree]      5   \n",
       "21        Alexion's Bar & Grill                 [Greentree]      3   \n",
       "22      Kings Family Restaurant                          []      3   \n",
       "23      Kings Family Restaurant                          []      3   \n",
       "24      Kings Family Restaurant                          []      4   \n",
       "25      Kings Family Restaurant                          []      2   \n",
       "26      Kings Family Restaurant                          []      4   \n",
       "27      Kings Family Restaurant                          []      4   \n",
       "28      Kings Family Restaurant                          []      5   \n",
       "29               Rocky's Lounge                          []      2   \n",
       "...                         ...                         ...    ...   \n",
       "990597         Checkers Rally's  [Southwest, Spring Valley]      5   \n",
       "990598         Checkers Rally's  [Southwest, Spring Valley]      3   \n",
       "990599         Checkers Rally's  [Southwest, Spring Valley]      1   \n",
       "990600         Checkers Rally's  [Southwest, Spring Valley]      1   \n",
       "990601            Shawarma Plus                    [Anthem]      5   \n",
       "990602            Shawarma Plus                    [Anthem]      5   \n",
       "990603            Shawarma Plus                    [Anthem]      5   \n",
       "990604            Shawarma Plus                    [Anthem]      5   \n",
       "990605                   Dakota                          []      3   \n",
       "990606                   Dakota                          []      5   \n",
       "990607                   Dakota                          []      5   \n",
       "990608                   Dakota                          []      5   \n",
       "990609                   Dakota                          []      5   \n",
       "990610                   Dakota                          []      1   \n",
       "990611                   Dakota                          []      5   \n",
       "990612                   Dakota                          []      4   \n",
       "990613  The Buffet at Excalibur                 [The Strip]      4   \n",
       "990614  The Buffet at Excalibur                 [The Strip]      3   \n",
       "990615  The Buffet at Excalibur                 [The Strip]      1   \n",
       "990616  The Buffet at Excalibur                 [The Strip]      3   \n",
       "990617  Scottsdale Beer Company                          []      5   \n",
       "990618  Scottsdale Beer Company                          []      5   \n",
       "990619  Scottsdale Beer Company                          []      5   \n",
       "990620  Scottsdale Beer Company                          []      3   \n",
       "990621  Scottsdale Beer Company                          []      5   \n",
       "990622  Scottsdale Beer Company                          []      5   \n",
       "990623  Scottsdale Beer Company                          []      3   \n",
       "990624               Latin Fish                 [Summerlin]      5   \n",
       "990625               Latin Fish                 [Summerlin]      5   \n",
       "990626               Latin Fish                 [Summerlin]      1   \n",
       "\n",
       "                                                    hours  \n",
       "0       {'Tuesday': {'close': '19:00', 'open': '10:00'...  \n",
       "1       {'Tuesday': {'close': '19:00', 'open': '10:00'...  \n",
       "2       {'Tuesday': {'close': '19:00', 'open': '10:00'...  \n",
       "3       {'Tuesday': {'close': '19:00', 'open': '10:00'...  \n",
       "4       {'Tuesday': {'close': '19:00', 'open': '10:00'...  \n",
       "5       {'Tuesday': {'close': '19:00', 'open': '10:00'...  \n",
       "6       {'Tuesday': {'close': '19:00', 'open': '10:00'...  \n",
       "7       {'Tuesday': {'close': '19:00', 'open': '10:00'...  \n",
       "8       {'Tuesday': {'close': '19:00', 'open': '10:00'...  \n",
       "9       {'Tuesday': {'close': '19:00', 'open': '10:00'...  \n",
       "10                                                     {}  \n",
       "11                                                     {}  \n",
       "12                                                     {}  \n",
       "13                                                     {}  \n",
       "14                                                     {}  \n",
       "15                                                     {}  \n",
       "16                                                     {}  \n",
       "17                                                     {}  \n",
       "18                                                     {}  \n",
       "19                                                     {}  \n",
       "20                                                     {}  \n",
       "21                                                     {}  \n",
       "22      {'Saturday': {'close': '02:00', 'open': '08:00...  \n",
       "23      {'Saturday': {'close': '02:00', 'open': '08:00...  \n",
       "24      {'Saturday': {'close': '02:00', 'open': '08:00...  \n",
       "25      {'Saturday': {'close': '02:00', 'open': '08:00...  \n",
       "26      {'Saturday': {'close': '02:00', 'open': '08:00...  \n",
       "27      {'Saturday': {'close': '02:00', 'open': '08:00...  \n",
       "28      {'Saturday': {'close': '02:00', 'open': '08:00...  \n",
       "29                                                     {}  \n",
       "...                                                   ...  \n",
       "990597  {'Saturday': {'close': '00:00', 'open': '00:00...  \n",
       "990598  {'Saturday': {'close': '00:00', 'open': '00:00...  \n",
       "990599  {'Saturday': {'close': '00:00', 'open': '00:00...  \n",
       "990600  {'Saturday': {'close': '00:00', 'open': '00:00...  \n",
       "990601  {'Saturday': {'close': '19:00', 'open': '11:00...  \n",
       "990602  {'Saturday': {'close': '19:00', 'open': '11:00...  \n",
       "990603  {'Saturday': {'close': '19:00', 'open': '11:00...  \n",
       "990604  {'Saturday': {'close': '19:00', 'open': '11:00...  \n",
       "990605                                                 {}  \n",
       "990606                                                 {}  \n",
       "990607                                                 {}  \n",
       "990608                                                 {}  \n",
       "990609                                                 {}  \n",
       "990610                                                 {}  \n",
       "990611                                                 {}  \n",
       "990612                                                 {}  \n",
       "990613  {'Saturday': {'close': '22:00', 'open': '07:00...  \n",
       "990614  {'Saturday': {'close': '22:00', 'open': '07:00...  \n",
       "990615  {'Saturday': {'close': '22:00', 'open': '07:00...  \n",
       "990616  {'Saturday': {'close': '22:00', 'open': '07:00...  \n",
       "990617                                                 {}  \n",
       "990618                                                 {}  \n",
       "990619                                                 {}  \n",
       "990620                                                 {}  \n",
       "990621                                                 {}  \n",
       "990622                                                 {}  \n",
       "990623                                                 {}  \n",
       "990624  {'Saturday': {'close': '23:00', 'open': '09:30...  \n",
       "990625  {'Saturday': {'close': '23:00', 'open': '09:30...  \n",
       "990626  {'Saturday': {'close': '23:00', 'open': '09:30...  \n",
       "\n",
       "[990627 rows x 11 columns]"
      ]
     },
     "execution_count": 19,
     "metadata": {},
     "output_type": "execute_result"
    }
   ],
   "source": [
    "combined_data"
   ]
  },
  {
   "cell_type": "markdown",
   "metadata": {},
   "source": [
    "# References"
   ]
  },
  {
   "cell_type": "markdown",
   "metadata": {},
   "source": [
    "[Good tutorial](https://radimrehurek.com/gensim/tut1.html#corpus-formats) on how to get Corpora in the right format.  "
   ]
  },
  {
   "cell_type": "markdown",
   "metadata": {},
   "source": [
    "http://nbviewer.ipython.org/gist/langmore/6820351"
   ]
  },
  {
   "cell_type": "code",
   "execution_count": null,
   "metadata": {
    "collapsed": true
   },
   "outputs": [],
   "source": []
  }
 ],
 "metadata": {
  "kernelspec": {
   "display_name": "Python 3",
   "language": "python",
   "name": "python3"
  },
  "language_info": {
   "codemirror_mode": {
    "name": "ipython",
    "version": 3
   },
   "file_extension": ".py",
   "mimetype": "text/x-python",
   "name": "python",
   "nbconvert_exporter": "python",
   "pygments_lexer": "ipython3",
   "version": "3.4.3"
  }
 },
 "nbformat": 4,
 "nbformat_minor": 0
}
