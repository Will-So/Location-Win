{
 "cells": [
  {
   "cell_type": "markdown",
   "metadata": {},
   "source": [
    "# Strategy"
   ]
  },
  {
   "cell_type": "markdown",
   "metadata": {},
   "source": [
    "Input: Location in lat and long\n",
    "\n",
    "Process: Find the 10 nearest neighbors from the lat and long and take the average of that location. \n",
    "That is the feature \n",
    "\n",
    "Output: that particular feature. "
   ]
  },
  {
   "cell_type": "markdown",
   "metadata": {},
   "source": [
    "# Preparing the Data"
   ]
  },
  {
   "cell_type": "code",
   "execution_count": 1,
   "metadata": {
    "collapsed": false
   },
   "outputs": [
    {
     "name": "stdout",
     "output_type": "stream",
     "text": [
      "Populating the interactive namespace from numpy and matplotlib\n"
     ]
    }
   ],
   "source": [
    "import pandas as pd\n",
    "%pylab inline"
   ]
  },
  {
   "cell_type": "code",
   "execution_count": 2,
   "metadata": {
    "collapsed": true
   },
   "outputs": [],
   "source": [
    "combined_data = pd.read_hdf('../data/d_success',)"
   ]
  },
  {
   "cell_type": "code",
   "execution_count": 4,
   "metadata": {
    "collapsed": false
   },
   "outputs": [],
   "source": [
    "businesses = pd.read_hdf('../data/bus_with_sucess.hdf')"
   ]
  },
  {
   "cell_type": "code",
   "execution_count": null,
   "metadata": {
    "collapsed": true
   },
   "outputs": [],
   "source": [
    "train_bus, test_bus = "
   ]
  },
  {
   "cell_type": "markdown",
   "metadata": {},
   "source": [
    "- Calculate the geographic distance away from everything with shapely"
   ]
  },
  {
   "cell_type": "markdown",
   "metadata": {},
   "source": [
    "# Distance testing"
   ]
  },
  {
   "cell_type": "code",
   "execution_count": 6,
   "metadata": {
    "collapsed": false
   },
   "outputs": [],
   "source": [
    "from geopy.distance import vincenty"
   ]
  },
  {
   "cell_type": "code",
   "execution_count": 18,
   "metadata": {
    "collapsed": false
   },
   "outputs": [],
   "source": [
    "businesses = businesses.reset_index()"
   ]
  },
  {
   "cell_type": "code",
   "execution_count": 19,
   "metadata": {
    "collapsed": false,
    "scrolled": false
   },
   "outputs": [
    {
     "data": {
      "text/plain": [
       "index                                                             3\n",
       "business_id                                  mVHrayjG3uZ_RLHkLj-AMg\n",
       "categories        [Bars, American (New), Nightlife, Lounges, Res...\n",
       "city                                                       Braddock\n",
       "full_address                    414 Hawkins Ave\\nBraddock, PA 15104\n",
       "hours             {'Saturday': {'open': '10:00', 'close': '16:00...\n",
       "latitude                                                    40.4087\n",
       "longitude                                                  -79.8664\n",
       "name                                                  Emil's Lounge\n",
       "neighborhoods                                                    []\n",
       "open                                                           True\n",
       "review_count                                                     11\n",
       "stars                                                           4.5\n",
       "state                                                            PA\n",
       "type                                                       business\n",
       "success_metric                                              2.26729\n",
       "Name: 1, dtype: object"
      ]
     },
     "execution_count": 19,
     "metadata": {},
     "output_type": "execute_result"
    }
   ],
   "source": [
    "businesses.ix[1]"
   ]
  },
  {
   "cell_type": "code",
   "execution_count": 23,
   "metadata": {
    "collapsed": false
   },
   "outputs": [],
   "source": [
    "loc1 = (businesses.ix[1]['latitude'], businesses.ix[1]['longitude'])\n",
    "loc2 = (businesses.ix[5]['latitude'], businesses.ix[5]['longitude'])"
   ]
  },
  {
   "cell_type": "code",
   "execution_count": 28,
   "metadata": {
    "collapsed": false
   },
   "outputs": [],
   "source": [
    "from scipy.spatial import cKDTree as KDTree"
   ]
  },
  {
   "cell_type": "code",
   "execution_count": 31,
   "metadata": {
    "collapsed": true
   },
   "outputs": [],
   "source": [
    "loc_cols = ['latitude', 'longitude']\n",
    "tree = KDTree(businesses[loc_cols])"
   ]
  },
  {
   "cell_type": "code",
   "execution_count": 54,
   "metadata": {
    "collapsed": false
   },
   "outputs": [],
   "source": [
    "distance, indices = tree.query(businesses[loc_cols], 6)"
   ]
  },
  {
   "cell_type": "code",
   "execution_count": 44,
   "metadata": {
    "collapsed": true
   },
   "outputs": [],
   "source": [
    "?tree.query"
   ]
  },
  {
   "cell_type": "code",
   "execution_count": 36,
   "metadata": {
    "collapsed": false,
    "scrolled": true
   },
   "outputs": [
    {
     "data": {
      "text/plain": [
       "array([    0,     1,     2, ..., 22755, 22756, 22757])"
      ]
     },
     "execution_count": 36,
     "metadata": {},
     "output_type": "execute_result"
    }
   ],
   "source": [
    "indices"
   ]
  },
  {
   "cell_type": "markdown",
   "metadata": {},
   "source": [
    "## Given a Point"
   ]
  },
  {
   "cell_type": "code",
   "execution_count": 107,
   "metadata": {
    "collapsed": true
   },
   "outputs": [],
   "source": [
    "point = (40.415519, -80.067534)"
   ]
  },
  {
   "cell_type": "code",
   "execution_count": 108,
   "metadata": {
    "collapsed": true
   },
   "outputs": [],
   "source": [
    "distance, indices = tree.query(point, 6)"
   ]
  },
  {
   "cell_type": "code",
   "execution_count": 109,
   "metadata": {
    "collapsed": false,
    "scrolled": false
   },
   "outputs": [
    {
     "data": {
      "text/plain": [
       "array([  2.00000000e-06,   5.95393962e-04,   5.63332509e-03,\n",
       "         6.31602945e-03,   1.53749148e-02,   1.56933918e-02])"
      ]
     },
     "execution_count": 109,
     "metadata": {},
     "output_type": "execute_result"
    }
   ],
   "source": [
    "distance"
   ]
  },
  {
   "cell_type": "code",
   "execution_count": 110,
   "metadata": {
    "collapsed": false,
    "scrolled": false
   },
   "outputs": [
    {
     "data": {
      "text/plain": [
       "0.6200550324692973"
      ]
     },
     "execution_count": 110,
     "metadata": {},
     "output_type": "execute_result"
    }
   ],
   "source": [
    "businesses.ix[indices].success_metric.mean()"
   ]
  },
  {
   "cell_type": "code",
   "execution_count": 82,
   "metadata": {
    "collapsed": true
   },
   "outputs": [],
   "source": [
    "def point_find_nearest_neighbors(df, point, k=5, loc_cols=['latitude', 'longitude']):\n",
    "    \"\"\"\n",
    "    Given a point (lat, long) \n",
    "    :param df: \n",
    "    :param point: \n",
    "    :param k: \n",
    "    :param loc_cols: \n",
    "    :return: \n",
    "    \"\"\"\n",
    "    tree = KDTree(df[loc_cols])\n",
    "    distance, indices = tree.query(point, k)\n",
    "    return df.ix[indices]"
   ]
  },
  {
   "cell_type": "code",
   "execution_count": 118,
   "metadata": {
    "collapsed": true
   },
   "outputs": [],
   "source": [
    "def row_find_nearest_businesses(df, row, k=5, loc_cols=['latitude', 'longitude']):\n",
    "    \"\"\"\n",
    "    Finds the nearest neighbor of a\n",
    "\n",
    "    :param row: Row that we are interested in finding the nearest neighbors for\n",
    "    :param df: pd.DataFrame with loc_cols\n",
    "    :param k:\n",
    "    :param loc_cols: List of columns that we are comparing to for nearest neighbors\n",
    "    :return:\n",
    "\n",
    "    Example\n",
    "    ---\n",
    "    >>> find_nearest_neighbors(businesses, 1)\n",
    "    \"\"\"\n",
    "    tree = KDTree(df[loc_cols])\n",
    "    distance, indices = tree.query(df[loc_cols], k + 1)\n",
    "    neighbors = df.ix[indices[row][1:]] # Start at 1 to ignore the current index\n",
    "\n",
    "    return neighbors.success_metric.mean()"
   ]
  },
  {
   "cell_type": "code",
   "execution_count": 129,
   "metadata": {
    "collapsed": true
   },
   "outputs": [],
   "source": [
    "businesses['neighbor_success'] = -1"
   ]
  },
  {
   "cell_type": "code",
   "execution_count": 137,
   "metadata": {
    "collapsed": false,
    "scrolled": true
   },
   "outputs": [
    {
     "name": "stdout",
     "output_type": "stream",
     "text": [
      "Done with 0 entries\n",
      "Done with 1000 entries\n",
      "Done with 2000 entries\n",
      "Done with 3000 entries\n",
      "Done with 4000 entries\n",
      "Done with 5000 entries\n",
      "Done with 6000 entries\n",
      "Done with 7000 entries\n",
      "Done with 8000 entries\n",
      "Done with 9000 entries\n",
      "Done with 10000 entries\n",
      "Done with 11000 entries\n",
      "Done with 12000 entries\n",
      "Done with 13000 entries\n",
      "Done with 14000 entries\n",
      "Done with 15000 entries\n",
      "Done with 16000 entries\n",
      "Done with 17000 entries\n",
      "Done with 18000 entries\n",
      "Done with 19000 entries\n",
      "Done with 20000 entries\n",
      "Done with 21000 entries\n",
      "Done with 22000 entries\n"
     ]
    }
   ],
   "source": [
    "for i, row in businesses.iterrows():\n",
    "    businesses.ix[i, 'neighbor_success'] = row_find_nearest_businesses(businesses, i)\n",
    "    if i % 1000 == 0:\n",
    "        print('Done with {} entries'.format(i))"
   ]
  },
  {
   "cell_type": "code",
   "execution_count": 139,
   "metadata": {
    "collapsed": false
   },
   "outputs": [
    {
     "name": "stderr",
     "output_type": "stream",
     "text": [
      "/Users/Will/anaconda/envs/py34/lib/python3.4/site-packages/pandas/core/generic.py:938: PerformanceWarning: \n",
      "your performance may suffer as PyTables will pickle object types that it cannot\n",
      "map directly to c-types [inferred_type->mixed,key->block3_values] [items->['business_id', 'categories', 'city', 'full_address', 'hours', 'name', 'neighborhoods', 'state', 'type']]\n",
      "\n",
      "  return pytables.to_hdf(path_or_buf, key, self, **kwargs)\n"
     ]
    }
   ],
   "source": [
    "businesses.to_hdf('../data/neighbors_bus.hdf', 'df')"
   ]
  },
  {
   "cell_type": "markdown",
   "metadata": {},
   "source": [
    "# References"
   ]
  },
  {
   "cell_type": "markdown",
   "metadata": {},
   "source": [
    "- http://geoffboeing.com/2014/08/clustering-to-reduce-spatial-data-set-size/"
   ]
  }
 ],
 "metadata": {
  "kernelspec": {
   "display_name": "Python 3",
   "language": "python",
   "name": "python3"
  },
  "language_info": {
   "codemirror_mode": {
    "name": "ipython",
    "version": 3
   },
   "file_extension": ".py",
   "mimetype": "text/x-python",
   "name": "python",
   "nbconvert_exporter": "python",
   "pygments_lexer": "ipython3",
   "version": "3.4.3"
  }
 },
 "nbformat": 4,
 "nbformat_minor": 0
}
